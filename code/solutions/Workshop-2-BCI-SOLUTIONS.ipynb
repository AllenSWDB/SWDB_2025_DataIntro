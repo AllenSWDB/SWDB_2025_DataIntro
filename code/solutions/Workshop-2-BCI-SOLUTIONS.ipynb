{
 "cells": [
  {
   "cell_type": "code",
   "execution_count": 1,
   "id": "95c1a3c8-4900-4a5f-9c6d-6f748da92f1b",
   "metadata": {
    "tags": []
   },
   "outputs": [],
   "source": [
    "# # general imports \n",
    "import os\n",
    "from pathlib import Path\n",
    "import numpy as np\n",
    "import pandas as pd \n",
    "\n",
    "# nwb specific imports \n",
    "import pynwb\n",
    "from nwbwidgets import nwb2widget\n",
    "from hdmf_zarr import NWBZarrIO "
   ]
  },
  {
   "cell_type": "code",
   "execution_count": 2,
   "id": "fafb489f-ab6e-480f-9b09-1b420b2d8c97",
   "metadata": {
    "tags": []
   },
   "outputs": [
    {
     "data": {
      "text/html": [
       "<div>\n",
       "<style scoped>\n",
       "    .dataframe tbody tr th:only-of-type {\n",
       "        vertical-align: middle;\n",
       "    }\n",
       "\n",
       "    .dataframe tbody tr th {\n",
       "        vertical-align: top;\n",
       "    }\n",
       "\n",
       "    .dataframe thead th {\n",
       "        text-align: right;\n",
       "    }\n",
       "</style>\n",
       "<table border=\"1\" class=\"dataframe\">\n",
       "  <thead>\n",
       "    <tr style=\"text-align: right;\">\n",
       "      <th></th>\n",
       "      <th>_id</th>\n",
       "      <th>name</th>\n",
       "      <th>subject_id</th>\n",
       "      <th>genotype</th>\n",
       "      <th>virus_injection_materials</th>\n",
       "      <th>date_of_birth</th>\n",
       "      <th>sex</th>\n",
       "      <th>session_type</th>\n",
       "      <th>session_time</th>\n",
       "      <th>stimulus_epochs</th>\n",
       "      <th>project_name</th>\n",
       "      <th>modality</th>\n",
       "      <th>targeted_structure</th>\n",
       "      <th>ophys_fov</th>\n",
       "      <th>session_number</th>\n",
       "    </tr>\n",
       "  </thead>\n",
       "  <tbody>\n",
       "    <tr>\n",
       "      <th>0</th>\n",
       "      <td>03f1b82e-4494-46bc-a959-50c4b14d13da</td>\n",
       "      <td>single-plane-ophys_731015_2025-01-28_17-40-57_...</td>\n",
       "      <td>731015</td>\n",
       "      <td>Slc17a6-IRES-Cre/wt;Ai230(TIT2L-XCaMPG-WPRE-IC...</td>\n",
       "      <td>pAAV-hSyn1-RiboL1-GCaMP8s-WPRE</td>\n",
       "      <td>2024-03-14</td>\n",
       "      <td>Female</td>\n",
       "      <td>BCI single neuron stim</td>\n",
       "      <td>2025-01-28T17:40:57.996000-08:00</td>\n",
       "      <td>['spontaneous activity', 'spontaneous activity...</td>\n",
       "      <td>Brain Computer Interface</td>\n",
       "      <td>['Planar optical physiology']</td>\n",
       "      <td>['Primary Motor Cortex']</td>\n",
       "      <td>FOV_04</td>\n",
       "      <td>22.0</td>\n",
       "    </tr>\n",
       "    <tr>\n",
       "      <th>1</th>\n",
       "      <td>b28d6321-1b1b-4110-87fb-0e19325c1dfe</td>\n",
       "      <td>single-plane-ophys_767715_2025-02-17_17-41-50_...</td>\n",
       "      <td>767715</td>\n",
       "      <td>Slc17a6-IRES-Cre/wt;Ai230(TIT2L-XCaMPG-WPRE-IC...</td>\n",
       "      <td>pAAV-hSyn1-RiboL1-GCaMP8s-WPRE</td>\n",
       "      <td>2024-09-15</td>\n",
       "      <td>Female</td>\n",
       "      <td>BCI single neuron stim</td>\n",
       "      <td>2025-02-17T17:41:50.758000-08:00</td>\n",
       "      <td>['spontaneous activity', 'spontaneous activity...</td>\n",
       "      <td>Brain Computer Interface</td>\n",
       "      <td>['Planar optical physiology']</td>\n",
       "      <td>['Primary Motor Cortex']</td>\n",
       "      <td>FOV_03</td>\n",
       "      <td>8.0</td>\n",
       "    </tr>\n",
       "    <tr>\n",
       "      <th>2</th>\n",
       "      <td>580448b2-4b93-4477-b6ac-6e2972792fe0</td>\n",
       "      <td>single-plane-ophys_772414_2025-01-27_15-57-05_...</td>\n",
       "      <td>772414</td>\n",
       "      <td>Camk2a-tTA/wt;tetO-GCaMP6s/wt</td>\n",
       "      <td>pAAV-CaMKIIa-ChRmine-oScarlet-Kv2.1-WPRE - 7413</td>\n",
       "      <td>2024-10-15</td>\n",
       "      <td>Female</td>\n",
       "      <td>BCI single neuron stim</td>\n",
       "      <td>2025-01-27T14:23:26.693000-08:00</td>\n",
       "      <td>['spontaneous activity', 'spontaneous activity...</td>\n",
       "      <td>Brain Computer Interface</td>\n",
       "      <td>['Planar optical physiology']</td>\n",
       "      <td>['Primary Motor Cortex']</td>\n",
       "      <td>FOV_01</td>\n",
       "      <td>5.0</td>\n",
       "    </tr>\n",
       "    <tr>\n",
       "      <th>3</th>\n",
       "      <td>c1be8449-7bef-4967-88f5-6a6ffc29e5a3</td>\n",
       "      <td>single-plane-ophys_772414_2025-02-06_16-47-44_...</td>\n",
       "      <td>772414</td>\n",
       "      <td>Camk2a-tTA/wt;tetO-GCaMP6s/wt</td>\n",
       "      <td>pAAV-CaMKIIa-ChRmine-oScarlet-Kv2.1-WPRE - 7413</td>\n",
       "      <td>2024-10-15</td>\n",
       "      <td>Female</td>\n",
       "      <td>BCI single neuron stim</td>\n",
       "      <td>2025-02-06T16:47:44.152999-08:00</td>\n",
       "      <td>['spontaneous activity', 'spontaneous activity...</td>\n",
       "      <td>Brain Computer Interface</td>\n",
       "      <td>['Planar optical physiology']</td>\n",
       "      <td>['Primary Motor Cortex']</td>\n",
       "      <td>FOV_02</td>\n",
       "      <td>13.0</td>\n",
       "    </tr>\n",
       "    <tr>\n",
       "      <th>4</th>\n",
       "      <td>15b395c0-1caf-4be4-a212-a13b9a4d1dfc</td>\n",
       "      <td>single-plane-ophys_772414_2025-02-10_11-15-26_...</td>\n",
       "      <td>772414</td>\n",
       "      <td>Camk2a-tTA/wt;tetO-GCaMP6s/wt</td>\n",
       "      <td>pAAV-CaMKIIa-ChRmine-oScarlet-Kv2.1-WPRE - 7413</td>\n",
       "      <td>2024-10-15</td>\n",
       "      <td>Female</td>\n",
       "      <td>BCI single neuron stim</td>\n",
       "      <td>2025-02-10T11:15:26.609999-08:00</td>\n",
       "      <td>['spontaneous activity', 'spontaneous activity...</td>\n",
       "      <td>Brain Computer Interface</td>\n",
       "      <td>['Planar optical physiology']</td>\n",
       "      <td>['Primary Motor Cortex']</td>\n",
       "      <td>FOV_03</td>\n",
       "      <td>14.0</td>\n",
       "    </tr>\n",
       "  </tbody>\n",
       "</table>\n",
       "</div>"
      ],
      "text/plain": [
       "                                    _id  \\\n",
       "0  03f1b82e-4494-46bc-a959-50c4b14d13da   \n",
       "1  b28d6321-1b1b-4110-87fb-0e19325c1dfe   \n",
       "2  580448b2-4b93-4477-b6ac-6e2972792fe0   \n",
       "3  c1be8449-7bef-4967-88f5-6a6ffc29e5a3   \n",
       "4  15b395c0-1caf-4be4-a212-a13b9a4d1dfc   \n",
       "\n",
       "                                                name  subject_id  \\\n",
       "0  single-plane-ophys_731015_2025-01-28_17-40-57_...      731015   \n",
       "1  single-plane-ophys_767715_2025-02-17_17-41-50_...      767715   \n",
       "2  single-plane-ophys_772414_2025-01-27_15-57-05_...      772414   \n",
       "3  single-plane-ophys_772414_2025-02-06_16-47-44_...      772414   \n",
       "4  single-plane-ophys_772414_2025-02-10_11-15-26_...      772414   \n",
       "\n",
       "                                            genotype  \\\n",
       "0  Slc17a6-IRES-Cre/wt;Ai230(TIT2L-XCaMPG-WPRE-IC...   \n",
       "1  Slc17a6-IRES-Cre/wt;Ai230(TIT2L-XCaMPG-WPRE-IC...   \n",
       "2                      Camk2a-tTA/wt;tetO-GCaMP6s/wt   \n",
       "3                      Camk2a-tTA/wt;tetO-GCaMP6s/wt   \n",
       "4                      Camk2a-tTA/wt;tetO-GCaMP6s/wt   \n",
       "\n",
       "                         virus_injection_materials date_of_birth     sex  \\\n",
       "0                   pAAV-hSyn1-RiboL1-GCaMP8s-WPRE    2024-03-14  Female   \n",
       "1                   pAAV-hSyn1-RiboL1-GCaMP8s-WPRE    2024-09-15  Female   \n",
       "2  pAAV-CaMKIIa-ChRmine-oScarlet-Kv2.1-WPRE - 7413    2024-10-15  Female   \n",
       "3  pAAV-CaMKIIa-ChRmine-oScarlet-Kv2.1-WPRE - 7413    2024-10-15  Female   \n",
       "4  pAAV-CaMKIIa-ChRmine-oScarlet-Kv2.1-WPRE - 7413    2024-10-15  Female   \n",
       "\n",
       "             session_type                      session_time  \\\n",
       "0  BCI single neuron stim  2025-01-28T17:40:57.996000-08:00   \n",
       "1  BCI single neuron stim  2025-02-17T17:41:50.758000-08:00   \n",
       "2  BCI single neuron stim  2025-01-27T14:23:26.693000-08:00   \n",
       "3  BCI single neuron stim  2025-02-06T16:47:44.152999-08:00   \n",
       "4  BCI single neuron stim  2025-02-10T11:15:26.609999-08:00   \n",
       "\n",
       "                                     stimulus_epochs  \\\n",
       "0  ['spontaneous activity', 'spontaneous activity...   \n",
       "1  ['spontaneous activity', 'spontaneous activity...   \n",
       "2  ['spontaneous activity', 'spontaneous activity...   \n",
       "3  ['spontaneous activity', 'spontaneous activity...   \n",
       "4  ['spontaneous activity', 'spontaneous activity...   \n",
       "\n",
       "               project_name                       modality  \\\n",
       "0  Brain Computer Interface  ['Planar optical physiology']   \n",
       "1  Brain Computer Interface  ['Planar optical physiology']   \n",
       "2  Brain Computer Interface  ['Planar optical physiology']   \n",
       "3  Brain Computer Interface  ['Planar optical physiology']   \n",
       "4  Brain Computer Interface  ['Planar optical physiology']   \n",
       "\n",
       "         targeted_structure ophys_fov  session_number  \n",
       "0  ['Primary Motor Cortex']    FOV_04            22.0  \n",
       "1  ['Primary Motor Cortex']    FOV_03             8.0  \n",
       "2  ['Primary Motor Cortex']    FOV_01             5.0  \n",
       "3  ['Primary Motor Cortex']    FOV_02            13.0  \n",
       "4  ['Primary Motor Cortex']    FOV_03            14.0  "
      ]
     },
     "execution_count": 2,
     "metadata": {},
     "output_type": "execute_result"
    }
   ],
   "source": [
    "# Load metadata CSV \n",
    "\n",
    "# metadata = pd.read_csv('/data/metadata/V1DD_metadata.csv') # V1DD \n",
    "# metadata = pd.read_csv('/data/metadata/dynamic_foraging_metadata.csv') # Dynamic Foraging \n",
    "metadata = pd.read_csv('/data/metadata/bci_metadata.csv') # BCI \n",
    "metadata.head()"
   ]
  },
  {
   "cell_type": "code",
   "execution_count": 3,
   "id": "236e6749-dfb1-4417-8a3a-3ee2a82f961b",
   "metadata": {
    "tags": []
   },
   "outputs": [
    {
     "data": {
      "text/plain": [
       "Index(['_id', 'name', 'subject_id', 'genotype', 'virus_injection_materials',\n",
       "       'date_of_birth', 'sex', 'session_type', 'session_time',\n",
       "       'stimulus_epochs', 'project_name', 'modality', 'targeted_structure',\n",
       "       'ophys_fov', 'session_number'],\n",
       "      dtype='object')"
      ]
     },
     "execution_count": 3,
     "metadata": {},
     "output_type": "execute_result"
    }
   ],
   "source": [
    "metadata.columns"
   ]
  },
  {
   "cell_type": "markdown",
   "id": "eb67262a-7ef7-4d0a-afa5-2879020afd6d",
   "metadata": {},
   "source": [
    "<div style=\"background: #DFF0D8; border-radius: 3px; padding: 10px;\">\n",
    "\n",
    "**Exercise:** What modality was used?\n",
    "</div>"
   ]
  },
  {
   "cell_type": "code",
   "execution_count": 4,
   "id": "265ce895-b059-40f7-8012-130a0bc97a32",
   "metadata": {
    "tags": []
   },
   "outputs": [
    {
     "data": {
      "text/plain": [
       "array([\"['Planar optical physiology']\"], dtype=object)"
      ]
     },
     "execution_count": 4,
     "metadata": {},
     "output_type": "execute_result"
    }
   ],
   "source": [
    "metadata.modality.unique()"
   ]
  },
  {
   "cell_type": "markdown",
   "id": "d6ac379e-02bc-4a76-89d1-8f911b30b605",
   "metadata": {
    "tags": []
   },
   "source": [
    "<div style=\"background: #DFF0D8; border-radius: 3px; padding: 10px;\">\n",
    "\n",
    "**Exercise:** How many mice were used in this dataset?\n",
    "</div>"
   ]
  },
  {
   "cell_type": "code",
   "execution_count": 5,
   "id": "45885ce2-9a97-455e-af4a-7c95ecc1eca5",
   "metadata": {
    "tags": []
   },
   "outputs": [
    {
     "data": {
      "text/plain": [
       "6"
      ]
     },
     "execution_count": 5,
     "metadata": {},
     "output_type": "execute_result"
    }
   ],
   "source": [
    "len(metadata.subject_id.unique())"
   ]
  },
  {
   "cell_type": "markdown",
   "id": "0c7017cb-d673-49bb-93c2-fc8f5204ff14",
   "metadata": {},
   "source": [
    "<div style=\"background: #DFF0D8; border-radius: 3px; padding: 10px;\">\n",
    "\n",
    "**Exercise:** How many sessions? How many sessions per mouse? \n",
    "</div>"
   ]
  },
  {
   "cell_type": "code",
   "execution_count": 7,
   "id": "c275ed8a-7dc0-4b31-b213-616c5b1c4f14",
   "metadata": {
    "tags": []
   },
   "outputs": [
    {
     "data": {
      "text/plain": [
       "33"
      ]
     },
     "execution_count": 7,
     "metadata": {},
     "output_type": "execute_result"
    }
   ],
   "source": [
    "len(metadata.name.unique())"
   ]
  },
  {
   "cell_type": "code",
   "execution_count": 8,
   "id": "0c7e48d6-5f64-4a5c-98b5-9c6ddec2aa51",
   "metadata": {
    "tags": []
   },
   "outputs": [
    {
     "data": {
      "text/plain": [
       "subject_id\n",
       "731015    7\n",
       "740369    7\n",
       "767715    6\n",
       "754303    6\n",
       "772414    4\n",
       "766719    3\n",
       "Name: count, dtype: int64"
      ]
     },
     "execution_count": 8,
     "metadata": {},
     "output_type": "execute_result"
    }
   ],
   "source": [
    "metadata['subject_id'].value_counts()"
   ]
  },
  {
   "cell_type": "markdown",
   "id": "1558d376-6b8f-49e5-ae9e-dc4e8f897eef",
   "metadata": {},
   "source": [
    "<div style=\"background: #DFF0D8; border-radius: 3px; padding: 10px;\">\n",
    "\n",
    "**Exercise:** What transgenic lines were used in this dataset? \n",
    "    \n",
    "What cell types do these transgenic lines target? Refer to the [Data Book](https://allenswdb.github.io/background/transgenic-tools.html) for this. \n",
    "</div>"
   ]
  },
  {
   "cell_type": "code",
   "execution_count": 10,
   "id": "091c81e0-2298-4ef4-977a-e9e3bd78fb5e",
   "metadata": {
    "tags": []
   },
   "outputs": [
    {
     "data": {
      "text/plain": [
       "array(['Slc17a6-IRES-Cre/wt;Ai230(TIT2L-XCaMPG-WPRE-ICL-ChRmine-oScarlet-IRES2-tTA2-WPRE)-hyg/wt',\n",
       "       'Camk2a-tTA/wt;tetO-GCaMP6s/wt',\n",
       "       'Camk2a-tTA/wt;TetO-jGCaMP8s-01/wt'], dtype=object)"
      ]
     },
     "execution_count": 10,
     "metadata": {},
     "output_type": "execute_result"
    }
   ],
   "source": [
    "metadata.genotype.unique()"
   ]
  },
  {
   "cell_type": "markdown",
   "id": "66be6912-24a7-416c-b3cd-2cb34b4bd7a1",
   "metadata": {
    "tags": []
   },
   "source": [
    "<div style=\"background: #DFF0D8; border-radius: 3px; padding: 10px;\">\n",
    "\n",
    "**Exercise:** What structures were targeted? If not in metadata, might need to infer from Data Book or NWB file itself. "
   ]
  },
  {
   "cell_type": "code",
   "execution_count": 77,
   "id": "d76cb2e4-ef24-4dda-adc5-2bad589fafd2",
   "metadata": {
    "tags": []
   },
   "outputs": [
    {
     "data": {
      "text/plain": [
       "array([\"['Primary Motor Cortex']\"], dtype=object)"
      ]
     },
     "execution_count": 77,
     "metadata": {},
     "output_type": "execute_result"
    }
   ],
   "source": [
    "metadata.targeted_structure.unique()"
   ]
  },
  {
   "cell_type": "code",
   "execution_count": 26,
   "id": "640a8db9-e4c3-40b0-bb61-c7f560f9b929",
   "metadata": {
    "tags": []
   },
   "outputs": [],
   "source": [
    "# # Load session data \n",
    "\n",
    "# note issue with loading BCI data using prev method as it doesn't end in .nwb \n",
    "# just copy the path for a sample session \n",
    "nwb_path_zarr = '/data/brain-computer-interface/single-plane-ophys_767715_2025-02-17_17-41-50_processed_2025-08-05_01-05-20/single-plane-ophys_767715_2025-02-17_17-41-50_behavior_nwb'"
   ]
  },
  {
   "cell_type": "code",
   "execution_count": 30,
   "id": "41284ee2-2609-4787-a22d-237f6b99cd14",
   "metadata": {
    "tags": []
   },
   "outputs": [
    {
     "name": "stderr",
     "output_type": "stream",
     "text": [
      "/opt/conda/lib/python3.10/site-packages/hdmf/spec/namespace.py:535: UserWarning: Ignoring cached namespace 'core' version 2.7.0 because version 2.8.0 is already loaded.\n",
      "  warn(\"Ignoring cached namespace '%s' version %s because version %s is already loaded.\"\n"
     ]
    }
   ],
   "source": [
    "io = NWBZarrIO(nwb_path_zarr, mode = 'r') \n",
    "nwbfile_zarr = io.read()"
   ]
  },
  {
   "cell_type": "code",
   "execution_count": 32,
   "id": "4c81eaad-f903-4b3c-b347-d6d146bc524c",
   "metadata": {
    "tags": []
   },
   "outputs": [
    {
     "data": {
      "application/vnd.jupyter.widget-view+json": {
       "model_id": "fe1cdce6f2d845d2916fb0d92eab03fd",
       "version_major": 2,
       "version_minor": 0
      },
      "text/plain": [
       "VBox(children=(HBox(children=(Label(value='session_description:', layout=Layout(max_height='40px', max_width='…"
      ]
     },
     "execution_count": 32,
     "metadata": {},
     "output_type": "execute_result"
    }
   ],
   "source": [
    "nwb2widget(nwbfile_zarr)"
   ]
  },
  {
   "cell_type": "markdown",
   "id": "517ec34d-77fe-4453-a666-ce0c9177417f",
   "metadata": {},
   "source": [
    "<div style=\"background: #DFF0D8; border-radius: 3px; padding: 10px;\">\n",
    "\n",
    "**Exercise**: What units/neurons are available? How many neurons were recorded in this session? Has the data been pre-filtered based on quality control metrics? "
   ]
  },
  {
   "cell_type": "code",
   "execution_count": 70,
   "id": "030f7951-4722-49f9-8fc9-5687033daa79",
   "metadata": {
    "tags": []
   },
   "outputs": [
    {
     "data": {
      "text/html": [
       "<div>\n",
       "<style scoped>\n",
       "    .dataframe tbody tr th:only-of-type {\n",
       "        vertical-align: middle;\n",
       "    }\n",
       "\n",
       "    .dataframe tbody tr th {\n",
       "        vertical-align: top;\n",
       "    }\n",
       "\n",
       "    .dataframe thead th {\n",
       "        text-align: right;\n",
       "    }\n",
       "</style>\n",
       "<table border=\"1\" class=\"dataframe\">\n",
       "  <thead>\n",
       "    <tr style=\"text-align: right;\">\n",
       "      <th></th>\n",
       "      <th>is_soma</th>\n",
       "      <th>soma_probability</th>\n",
       "      <th>is_dendrite</th>\n",
       "      <th>dendrite_probability</th>\n",
       "      <th>image_mask</th>\n",
       "    </tr>\n",
       "    <tr>\n",
       "      <th>id</th>\n",
       "      <th></th>\n",
       "      <th></th>\n",
       "      <th></th>\n",
       "      <th></th>\n",
       "      <th></th>\n",
       "    </tr>\n",
       "  </thead>\n",
       "  <tbody>\n",
       "    <tr>\n",
       "      <th>0</th>\n",
       "      <td>1</td>\n",
       "      <td>0.757573</td>\n",
       "      <td>0</td>\n",
       "      <td>3.039837e-06</td>\n",
       "      <td>[[0.0, 0.0, 0.0, 0.0, 0.0, 0.0, 0.0, 0.0, 0.0,...</td>\n",
       "    </tr>\n",
       "    <tr>\n",
       "      <th>1</th>\n",
       "      <td>0</td>\n",
       "      <td>0.115644</td>\n",
       "      <td>0</td>\n",
       "      <td>0.000000e+00</td>\n",
       "      <td>[[0.0, 0.0, 0.0, 0.0, 0.0, 0.0, 0.0, 0.0, 0.0,...</td>\n",
       "    </tr>\n",
       "    <tr>\n",
       "      <th>2</th>\n",
       "      <td>0</td>\n",
       "      <td>0.249087</td>\n",
       "      <td>0</td>\n",
       "      <td>7.450581e-07</td>\n",
       "      <td>[[0.0, 0.0, 0.0, 0.0, 0.0, 0.0, 0.0, 0.0, 0.0,...</td>\n",
       "    </tr>\n",
       "    <tr>\n",
       "      <th>3</th>\n",
       "      <td>0</td>\n",
       "      <td>0.073840</td>\n",
       "      <td>0</td>\n",
       "      <td>9.238720e-07</td>\n",
       "      <td>[[0.0, 0.0, 0.0, 0.0, 0.0, 0.0, 0.0, 0.0, 0.0,...</td>\n",
       "    </tr>\n",
       "    <tr>\n",
       "      <th>4</th>\n",
       "      <td>0</td>\n",
       "      <td>0.476796</td>\n",
       "      <td>0</td>\n",
       "      <td>0.000000e+00</td>\n",
       "      <td>[[0.0, 0.0, 0.0, 0.0, 0.0, 0.0, 0.0, 0.0, 0.0,...</td>\n",
       "    </tr>\n",
       "    <tr>\n",
       "      <th>...</th>\n",
       "      <td>...</td>\n",
       "      <td>...</td>\n",
       "      <td>...</td>\n",
       "      <td>...</td>\n",
       "      <td>...</td>\n",
       "    </tr>\n",
       "    <tr>\n",
       "      <th>2307</th>\n",
       "      <td>0</td>\n",
       "      <td>0.000000</td>\n",
       "      <td>0</td>\n",
       "      <td>1.221895e-06</td>\n",
       "      <td>[[0.0, 0.0, 0.0, 0.0, 0.0, 0.0, 0.0, 0.0, 0.0,...</td>\n",
       "    </tr>\n",
       "    <tr>\n",
       "      <th>2308</th>\n",
       "      <td>0</td>\n",
       "      <td>0.000000</td>\n",
       "      <td>0</td>\n",
       "      <td>1.260638e-05</td>\n",
       "      <td>[[0.0, 0.0, 0.0, 0.0, 0.0, 0.0, 0.0, 0.0, 0.0,...</td>\n",
       "    </tr>\n",
       "    <tr>\n",
       "      <th>2309</th>\n",
       "      <td>0</td>\n",
       "      <td>0.000000</td>\n",
       "      <td>1</td>\n",
       "      <td>9.949803e-01</td>\n",
       "      <td>[[0.0, 0.0, 0.0, 0.0, 0.0, 0.0, 0.0, 0.0, 0.0,...</td>\n",
       "    </tr>\n",
       "    <tr>\n",
       "      <th>2310</th>\n",
       "      <td>0</td>\n",
       "      <td>0.000000</td>\n",
       "      <td>0</td>\n",
       "      <td>3.805369e-03</td>\n",
       "      <td>[[0.0, 0.0, 0.0, 0.0, 0.0, 0.0, 0.0, 0.0, 0.0,...</td>\n",
       "    </tr>\n",
       "    <tr>\n",
       "      <th>2311</th>\n",
       "      <td>0</td>\n",
       "      <td>0.184293</td>\n",
       "      <td>0</td>\n",
       "      <td>1.417100e-04</td>\n",
       "      <td>[[0.0, 0.0, 0.0, 0.0, 0.0, 0.0, 0.0, 0.0, 0.0,...</td>\n",
       "    </tr>\n",
       "  </tbody>\n",
       "</table>\n",
       "<p>2312 rows × 5 columns</p>\n",
       "</div>"
      ],
      "text/plain": [
       "      is_soma  soma_probability  is_dendrite  dendrite_probability  \\\n",
       "id                                                                   \n",
       "0           1          0.757573            0          3.039837e-06   \n",
       "1           0          0.115644            0          0.000000e+00   \n",
       "2           0          0.249087            0          7.450581e-07   \n",
       "3           0          0.073840            0          9.238720e-07   \n",
       "4           0          0.476796            0          0.000000e+00   \n",
       "...       ...               ...          ...                   ...   \n",
       "2307        0          0.000000            0          1.221895e-06   \n",
       "2308        0          0.000000            0          1.260638e-05   \n",
       "2309        0          0.000000            1          9.949803e-01   \n",
       "2310        0          0.000000            0          3.805369e-03   \n",
       "2311        0          0.184293            0          1.417100e-04   \n",
       "\n",
       "                                             image_mask  \n",
       "id                                                       \n",
       "0     [[0.0, 0.0, 0.0, 0.0, 0.0, 0.0, 0.0, 0.0, 0.0,...  \n",
       "1     [[0.0, 0.0, 0.0, 0.0, 0.0, 0.0, 0.0, 0.0, 0.0,...  \n",
       "2     [[0.0, 0.0, 0.0, 0.0, 0.0, 0.0, 0.0, 0.0, 0.0,...  \n",
       "3     [[0.0, 0.0, 0.0, 0.0, 0.0, 0.0, 0.0, 0.0, 0.0,...  \n",
       "4     [[0.0, 0.0, 0.0, 0.0, 0.0, 0.0, 0.0, 0.0, 0.0,...  \n",
       "...                                                 ...  \n",
       "2307  [[0.0, 0.0, 0.0, 0.0, 0.0, 0.0, 0.0, 0.0, 0.0,...  \n",
       "2308  [[0.0, 0.0, 0.0, 0.0, 0.0, 0.0, 0.0, 0.0, 0.0,...  \n",
       "2309  [[0.0, 0.0, 0.0, 0.0, 0.0, 0.0, 0.0, 0.0, 0.0,...  \n",
       "2310  [[0.0, 0.0, 0.0, 0.0, 0.0, 0.0, 0.0, 0.0, 0.0,...  \n",
       "2311  [[0.0, 0.0, 0.0, 0.0, 0.0, 0.0, 0.0, 0.0, 0.0,...  \n",
       "\n",
       "[2312 rows x 5 columns]"
      ]
     },
     "execution_count": 70,
     "metadata": {},
     "output_type": "execute_result"
    }
   ],
   "source": [
    "image_segmentation = nwbfile_zarr.processing['processed'].data_interfaces['image_segmentation'].plane_segmentations['roi_table'].to_dataframe()\n",
    "image_segmentation"
   ]
  },
  {
   "cell_type": "code",
   "execution_count": 71,
   "id": "482540d7-bec3-4733-bcef-8b6edc9918e8",
   "metadata": {
    "tags": []
   },
   "outputs": [
    {
     "data": {
      "text/plain": [
       "array([1, 0])"
      ]
     },
     "execution_count": 71,
     "metadata": {},
     "output_type": "execute_result"
    }
   ],
   "source": [
    "image_segmentation.is_soma.unique()"
   ]
  },
  {
   "cell_type": "code",
   "execution_count": 72,
   "id": "a138eed8-3e91-41b4-bce9-bd78d6104408",
   "metadata": {
    "tags": []
   },
   "outputs": [
    {
     "data": {
      "text/plain": [
       "221"
      ]
     },
     "execution_count": 72,
     "metadata": {},
     "output_type": "execute_result"
    }
   ],
   "source": [
    "len(image_segmentation[image_segmentation.is_soma == 1])"
   ]
  },
  {
   "cell_type": "markdown",
   "id": "ff806faa-1be3-4f4c-a0fa-6fc807ead5f3",
   "metadata": {},
   "source": [
    "<div style=\"background: #DFF0D8; border-radius: 3px; padding: 10px;\">\n",
    "\n",
    "**Exercise**: What stimuli, behaviors, and conditions were applied or recorded in this experiment? "
   ]
  },
  {
   "cell_type": "code",
   "execution_count": 79,
   "id": "452d5495-d846-4ed3-8876-593f7fcba622",
   "metadata": {
    "tags": []
   },
   "outputs": [
    {
     "data": {
      "text/plain": [
       "array(['photostim', 'spont', 'BCI', 'spont_post', 'photostim_post'],\n",
       "      dtype=object)"
      ]
     },
     "execution_count": 79,
     "metadata": {},
     "output_type": "execute_result"
    }
   ],
   "source": [
    "epochs = nwbfile_zarr.intervals['epochs'].to_dataframe()\n",
    "epochs.stimulus_name.unique()"
   ]
  },
  {
   "cell_type": "markdown",
   "id": "eca99556-6135-45a3-b928-fe521dc301b9",
   "metadata": {
    "tags": []
   },
   "source": [
    "<div style=\"background: #DFF0D8; border-radius: 3px; padding: 10px;\">\n",
    "\n",
    "**Exercise**: How long is a session? "
   ]
  },
  {
   "cell_type": "code",
   "execution_count": 82,
   "id": "e609c0e7-45d4-4fe9-aec9-9a09136b74db",
   "metadata": {
    "tags": []
   },
   "outputs": [
    {
     "data": {
      "text/plain": [
       "np.float64(68.27870292932538)"
      ]
     },
     "execution_count": 82,
     "metadata": {},
     "output_type": "execute_result"
    }
   ],
   "source": [
    "epochs['stop_time'].iloc[4]/60"
   ]
  },
  {
   "cell_type": "markdown",
   "id": "4f36159c-b894-4546-88f4-7e2fb28a4b5b",
   "metadata": {},
   "source": [
    "<div style=\"background: #DFF0D8; border-radius: 3px; padding: 10px;\">\n",
    "\n",
    "**Exercise**: What is the sampling rate? "
   ]
  },
  {
   "cell_type": "code",
   "execution_count": 85,
   "id": "23b7de78-1a3d-4acb-821e-f665343bb432",
   "metadata": {
    "tags": []
   },
   "outputs": [
    {
     "data": {
      "text/plain": [
       "58.2262"
      ]
     },
     "execution_count": 85,
     "metadata": {},
     "output_type": "execute_result"
    }
   ],
   "source": [
    "nwbfile_zarr.processing['processed'].data_interfaces['dff'].roi_response_series['dff'].rate"
   ]
  },
  {
   "cell_type": "markdown",
   "id": "3354b1d8-835f-4a97-9106-da946d8c6da2",
   "metadata": {},
   "source": [
    "<div style=\"background: #DFF0D8; border-radius: 3px; padding: 10px;\">\n",
    "\n",
    "**Exercise**: Did the mice receive behavior training before recording sessions? Are the sessions longitudinal? "
   ]
  },
  {
   "cell_type": "markdown",
   "id": "0dbb5f7e-5c6f-4e09-8371-43d1045fb74d",
   "metadata": {},
   "source": [
    "Multiple recording sessions per mouse (longitudinal) "
   ]
  }
 ],
 "metadata": {
  "kernelspec": {
   "display_name": "Python 3 (ipykernel)",
   "language": "python",
   "name": "python3"
  },
  "language_info": {
   "codemirror_mode": {
    "name": "ipython",
    "version": 3
   },
   "file_extension": ".py",
   "mimetype": "text/x-python",
   "name": "python",
   "nbconvert_exporter": "python",
   "pygments_lexer": "ipython3",
   "version": "3.10.12"
  }
 },
 "nbformat": 4,
 "nbformat_minor": 5
}
