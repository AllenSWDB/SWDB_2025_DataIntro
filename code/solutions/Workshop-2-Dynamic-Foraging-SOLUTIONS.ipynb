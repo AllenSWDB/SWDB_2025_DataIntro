{
 "cells": [
  {
   "cell_type": "code",
   "execution_count": 1,
   "id": "95c1a3c8-4900-4a5f-9c6d-6f748da92f1b",
   "metadata": {
    "tags": []
   },
   "outputs": [],
   "source": [
    "# # general imports \n",
    "import os\n",
    "from pathlib import Path\n",
    "import numpy as np\n",
    "import pandas as pd \n",
    "\n",
    "# nwb specific imports \n",
    "import pynwb\n",
    "from nwbwidgets import nwb2widget\n",
    "from hdmf_zarr import NWBZarrIO "
   ]
  },
  {
   "cell_type": "code",
   "execution_count": 2,
   "id": "fafb489f-ab6e-480f-9b09-1b420b2d8c97",
   "metadata": {
    "tags": []
   },
   "outputs": [
    {
     "data": {
      "text/html": [
       "<div>\n",
       "<style scoped>\n",
       "    .dataframe tbody tr th:only-of-type {\n",
       "        vertical-align: middle;\n",
       "    }\n",
       "\n",
       "    .dataframe tbody tr th {\n",
       "        vertical-align: top;\n",
       "    }\n",
       "\n",
       "    .dataframe thead th {\n",
       "        text-align: right;\n",
       "    }\n",
       "</style>\n",
       "<table border=\"1\" class=\"dataframe\">\n",
       "  <thead>\n",
       "    <tr style=\"text-align: right;\">\n",
       "      <th></th>\n",
       "      <th>_id</th>\n",
       "      <th>name</th>\n",
       "      <th>subject_id</th>\n",
       "      <th>genotype</th>\n",
       "      <th>date_of_birth</th>\n",
       "      <th>sex</th>\n",
       "      <th>session_type</th>\n",
       "      <th>session_time</th>\n",
       "      <th>stimulus_epochs</th>\n",
       "      <th>project_name</th>\n",
       "      <th>modality</th>\n",
       "      <th>trials_total</th>\n",
       "      <th>trials_rewarded</th>\n",
       "      <th>quality_control</th>\n",
       "    </tr>\n",
       "  </thead>\n",
       "  <tbody>\n",
       "    <tr>\n",
       "      <th>0</th>\n",
       "      <td>8bcbd349-2ac7-467a-8ccd-f05b2319f06d</td>\n",
       "      <td>behavior_761432_2025-03-03_11-51-23_processed_...</td>\n",
       "      <td>761432</td>\n",
       "      <td>Dbh-Cre-KI/wt</td>\n",
       "      <td>2024-08-21</td>\n",
       "      <td>Male</td>\n",
       "      <td>Coupled Baiting</td>\n",
       "      <td>2025-03-03T11:51:23.846831-08:00</td>\n",
       "      <td>['The behavior auditory go cue']</td>\n",
       "      <td>Behavior Platform</td>\n",
       "      <td>['Behavior']</td>\n",
       "      <td>[613]</td>\n",
       "      <td>[246]</td>\n",
       "      <td>['Pass', 'Pass', 'Pass', 'Pass', 'Pass', 'Pass']</td>\n",
       "    </tr>\n",
       "    <tr>\n",
       "      <th>1</th>\n",
       "      <td>d9dce157-83e7-4d79-8c42-c48a73d7849b</td>\n",
       "      <td>behavior_761433_2025-03-03_11-47-13_processed_...</td>\n",
       "      <td>761433</td>\n",
       "      <td>Dbh-Cre-KI/wt</td>\n",
       "      <td>2024-08-21</td>\n",
       "      <td>Male</td>\n",
       "      <td>Coupled Without Baiting</td>\n",
       "      <td>2025-03-03T11:47:13.392064-08:00</td>\n",
       "      <td>['The behavior auditory go cue']</td>\n",
       "      <td>Behavior Platform</td>\n",
       "      <td>['Behavior']</td>\n",
       "      <td>[509]</td>\n",
       "      <td>[209]</td>\n",
       "      <td>['Pass', 'Pass', 'Pass', 'Pass', 'Pass', 'Pass']</td>\n",
       "    </tr>\n",
       "    <tr>\n",
       "      <th>2</th>\n",
       "      <td>ed9f660f-0990-427f-84cf-5d454331c348</td>\n",
       "      <td>behavior_770803_2025-02-28_13-11-33_processed_...</td>\n",
       "      <td>770803</td>\n",
       "      <td>Ai230(TIT2L-XCaMPG-WPRE-ICL-ChRmine-oScarlet-I...</td>\n",
       "      <td>2024-10-07</td>\n",
       "      <td>Male</td>\n",
       "      <td>Uncoupled Baiting</td>\n",
       "      <td>2025-02-28T13:11:33.083835-08:00</td>\n",
       "      <td>['The behavior auditory go cue']</td>\n",
       "      <td>Behavior Platform</td>\n",
       "      <td>['Behavior']</td>\n",
       "      <td>[539]</td>\n",
       "      <td>[261]</td>\n",
       "      <td>['Pass', 'Pass', 'Pass', 'Pass', 'Pass', 'Pass']</td>\n",
       "    </tr>\n",
       "    <tr>\n",
       "      <th>3</th>\n",
       "      <td>c1d96ba0-2393-45b4-a835-f06d8846d8ed</td>\n",
       "      <td>behavior_781469_2025-03-03_13-26-23_processed_...</td>\n",
       "      <td>781469</td>\n",
       "      <td>wt/wt</td>\n",
       "      <td>2024-10-08</td>\n",
       "      <td>Male</td>\n",
       "      <td>Uncoupled Baiting</td>\n",
       "      <td>2025-03-03T13:26:23.690824-08:00</td>\n",
       "      <td>['The behavior auditory go cue']</td>\n",
       "      <td>Behavior Platform</td>\n",
       "      <td>['Behavior']</td>\n",
       "      <td>[403]</td>\n",
       "      <td>[180]</td>\n",
       "      <td>['Pass', 'Pass', 'Pass', 'Pass', 'Pass', 'Pass']</td>\n",
       "    </tr>\n",
       "    <tr>\n",
       "      <th>4</th>\n",
       "      <td>7de28343-b4f0-466f-912c-a5792de1e28a</td>\n",
       "      <td>behavior_752014_2025-03-03_09-34-48_processed_...</td>\n",
       "      <td>752014</td>\n",
       "      <td>Dbh-Cre-KI/wt</td>\n",
       "      <td>2024-07-05</td>\n",
       "      <td>Male</td>\n",
       "      <td>Uncoupled Without Baiting</td>\n",
       "      <td>2025-03-03T09:34:48.766920-08:00</td>\n",
       "      <td>['The behavior auditory go cue']</td>\n",
       "      <td>Behavior Platform</td>\n",
       "      <td>['Behavior']</td>\n",
       "      <td>[651]</td>\n",
       "      <td>[333]</td>\n",
       "      <td>['Pass', 'Pass', 'Pass', 'Pass', 'Pass', 'Pass']</td>\n",
       "    </tr>\n",
       "  </tbody>\n",
       "</table>\n",
       "</div>"
      ],
      "text/plain": [
       "                                    _id  \\\n",
       "0  8bcbd349-2ac7-467a-8ccd-f05b2319f06d   \n",
       "1  d9dce157-83e7-4d79-8c42-c48a73d7849b   \n",
       "2  ed9f660f-0990-427f-84cf-5d454331c348   \n",
       "3  c1d96ba0-2393-45b4-a835-f06d8846d8ed   \n",
       "4  7de28343-b4f0-466f-912c-a5792de1e28a   \n",
       "\n",
       "                                                name  subject_id  \\\n",
       "0  behavior_761432_2025-03-03_11-51-23_processed_...      761432   \n",
       "1  behavior_761433_2025-03-03_11-47-13_processed_...      761433   \n",
       "2  behavior_770803_2025-02-28_13-11-33_processed_...      770803   \n",
       "3  behavior_781469_2025-03-03_13-26-23_processed_...      781469   \n",
       "4  behavior_752014_2025-03-03_09-34-48_processed_...      752014   \n",
       "\n",
       "                                            genotype date_of_birth   sex  \\\n",
       "0                                      Dbh-Cre-KI/wt    2024-08-21  Male   \n",
       "1                                      Dbh-Cre-KI/wt    2024-08-21  Male   \n",
       "2  Ai230(TIT2L-XCaMPG-WPRE-ICL-ChRmine-oScarlet-I...    2024-10-07  Male   \n",
       "3                                              wt/wt    2024-10-08  Male   \n",
       "4                                      Dbh-Cre-KI/wt    2024-07-05  Male   \n",
       "\n",
       "                session_type                      session_time  \\\n",
       "0            Coupled Baiting  2025-03-03T11:51:23.846831-08:00   \n",
       "1    Coupled Without Baiting  2025-03-03T11:47:13.392064-08:00   \n",
       "2          Uncoupled Baiting  2025-02-28T13:11:33.083835-08:00   \n",
       "3          Uncoupled Baiting  2025-03-03T13:26:23.690824-08:00   \n",
       "4  Uncoupled Without Baiting  2025-03-03T09:34:48.766920-08:00   \n",
       "\n",
       "                    stimulus_epochs       project_name      modality  \\\n",
       "0  ['The behavior auditory go cue']  Behavior Platform  ['Behavior']   \n",
       "1  ['The behavior auditory go cue']  Behavior Platform  ['Behavior']   \n",
       "2  ['The behavior auditory go cue']  Behavior Platform  ['Behavior']   \n",
       "3  ['The behavior auditory go cue']  Behavior Platform  ['Behavior']   \n",
       "4  ['The behavior auditory go cue']  Behavior Platform  ['Behavior']   \n",
       "\n",
       "  trials_total trials_rewarded  \\\n",
       "0        [613]           [246]   \n",
       "1        [509]           [209]   \n",
       "2        [539]           [261]   \n",
       "3        [403]           [180]   \n",
       "4        [651]           [333]   \n",
       "\n",
       "                                    quality_control  \n",
       "0  ['Pass', 'Pass', 'Pass', 'Pass', 'Pass', 'Pass']  \n",
       "1  ['Pass', 'Pass', 'Pass', 'Pass', 'Pass', 'Pass']  \n",
       "2  ['Pass', 'Pass', 'Pass', 'Pass', 'Pass', 'Pass']  \n",
       "3  ['Pass', 'Pass', 'Pass', 'Pass', 'Pass', 'Pass']  \n",
       "4  ['Pass', 'Pass', 'Pass', 'Pass', 'Pass', 'Pass']  "
      ]
     },
     "execution_count": 2,
     "metadata": {},
     "output_type": "execute_result"
    }
   ],
   "source": [
    "# Load metadata CSV \n",
    "\n",
    "# metadata = pd.read_csv('/data/metadata/V1DD_metadata.csv') # V1DD \n",
    "metadata = pd.read_csv('/data/metadata/dynamic_foraging_metadata.csv') # Dynamic Foraging \n",
    "# metadata = pd.read_csv('/data/metadata/bci_metadata.csv') # BCI \n",
    "metadata.head()"
   ]
  },
  {
   "cell_type": "code",
   "execution_count": 3,
   "id": "236e6749-dfb1-4417-8a3a-3ee2a82f961b",
   "metadata": {
    "tags": []
   },
   "outputs": [
    {
     "data": {
      "text/plain": [
       "Index(['_id', 'name', 'subject_id', 'genotype', 'date_of_birth', 'sex',\n",
       "       'session_type', 'session_time', 'stimulus_epochs', 'project_name',\n",
       "       'modality', 'trials_total', 'trials_rewarded', 'quality_control'],\n",
       "      dtype='object')"
      ]
     },
     "execution_count": 3,
     "metadata": {},
     "output_type": "execute_result"
    }
   ],
   "source": [
    "metadata.columns"
   ]
  },
  {
   "cell_type": "markdown",
   "id": "eb67262a-7ef7-4d0a-afa5-2879020afd6d",
   "metadata": {},
   "source": [
    "<div style=\"background: #DFF0D8; border-radius: 3px; padding: 10px;\">\n",
    "\n",
    "**Exercise:** What modality was used?\n",
    "</div>"
   ]
  },
  {
   "cell_type": "code",
   "execution_count": 5,
   "id": "265ce895-b059-40f7-8012-130a0bc97a32",
   "metadata": {
    "tags": []
   },
   "outputs": [
    {
     "data": {
      "text/plain": [
       "array([\"['Behavior']\", \"['Behavior', 'Behavior videos']\"], dtype=object)"
      ]
     },
     "execution_count": 5,
     "metadata": {},
     "output_type": "execute_result"
    }
   ],
   "source": [
    "metadata.modality.unique()"
   ]
  },
  {
   "cell_type": "markdown",
   "id": "d6ac379e-02bc-4a76-89d1-8f911b30b605",
   "metadata": {
    "tags": []
   },
   "source": [
    "<div style=\"background: #DFF0D8; border-radius: 3px; padding: 10px;\">\n",
    "\n",
    "**Exercise:** How many mice were used in this dataset?\n",
    "</div>"
   ]
  },
  {
   "cell_type": "code",
   "execution_count": 12,
   "id": "45885ce2-9a97-455e-af4a-7c95ecc1eca5",
   "metadata": {
    "tags": []
   },
   "outputs": [
    {
     "data": {
      "text/plain": [
       "67"
      ]
     },
     "execution_count": 12,
     "metadata": {},
     "output_type": "execute_result"
    }
   ],
   "source": [
    "len(metadata.subject_id.unique())"
   ]
  },
  {
   "cell_type": "markdown",
   "id": "0c7017cb-d673-49bb-93c2-fc8f5204ff14",
   "metadata": {},
   "source": [
    "<div style=\"background: #DFF0D8; border-radius: 3px; padding: 10px;\">\n",
    "\n",
    "**Exercise:** How many sessions? How many sessions per mouse? \n",
    "</div>"
   ]
  },
  {
   "cell_type": "code",
   "execution_count": 13,
   "id": "c275ed8a-7dc0-4b31-b213-616c5b1c4f14",
   "metadata": {
    "tags": []
   },
   "outputs": [
    {
     "data": {
      "text/plain": [
       "429"
      ]
     },
     "execution_count": 13,
     "metadata": {},
     "output_type": "execute_result"
    }
   ],
   "source": [
    "len(metadata.name.unique())"
   ]
  },
  {
   "cell_type": "code",
   "execution_count": 8,
   "id": "0c7e48d6-5f64-4a5c-98b5-9c6ddec2aa51",
   "metadata": {
    "tags": []
   },
   "outputs": [
    {
     "data": {
      "text/plain": [
       "subject_id\n",
       "761038    20\n",
       "781469    17\n",
       "758016    16\n",
       "775510    16\n",
       "761433    15\n",
       "          ..\n",
       "776293     1\n",
       "781162     1\n",
       "788586     1\n",
       "789191     1\n",
       "794980     1\n",
       "Name: count, Length: 67, dtype: int64"
      ]
     },
     "execution_count": 8,
     "metadata": {},
     "output_type": "execute_result"
    }
   ],
   "source": [
    "metadata['subject_id'].value_counts()"
   ]
  },
  {
   "cell_type": "markdown",
   "id": "1558d376-6b8f-49e5-ae9e-dc4e8f897eef",
   "metadata": {},
   "source": [
    "<div style=\"background: #DFF0D8; border-radius: 3px; padding: 10px;\">\n",
    "\n",
    "**Exercise:** What transgenic lines were used in this dataset? \n",
    "    \n",
    "What cell types do these transgenic lines target? Refer to the [Data Book](https://allenswdb.github.io/background/transgenic-tools.html) for this. \n",
    "</div>"
   ]
  },
  {
   "cell_type": "code",
   "execution_count": 9,
   "id": "091c81e0-2298-4ef4-977a-e9e3bd78fb5e",
   "metadata": {
    "tags": []
   },
   "outputs": [
    {
     "data": {
      "text/plain": [
       "array(['Dbh-Cre-KI/wt',\n",
       "       'Ai230(TIT2L-XCaMPG-WPRE-ICL-ChRmine-oScarlet-IRES2-tTA2-WPRE)-hyg/wt',\n",
       "       'wt/wt', 'Drd1a-Cre/wt;Oi8(H11-CAG-Cas9)/wt',\n",
       "       'Drd1a-Cre/wt;Adora2a-T2A-FlpO/wt;Ai231(TICL-ChrimsonR-GFP-WPRE-ICF-CoChR-oScarlet-WPRE)-hyg/wt',\n",
       "       'Pdyn-IRES-Cre/wt;Oi9(H11-CAG-LSL-Cas9)/wt',\n",
       "       'Drd3-Cre_KI196/wt;Oi9(H11-CAG-LSL-Cas9)/wt',\n",
       "       'Calcr-Cre/wt;Oi9(H11-CAG-LSL-Cas9)/wt',\n",
       "       'Drd2-Cre_ER44/wt;Oi9(H11-CAG-LSL-Cas9)/wt',\n",
       "       'Adora2a-Cre/wt;Oi9(H11-CAG-LSL-Cas9)/wt',\n",
       "       'Drd1a-Cre/wt;Oi9(H11-CAG-LSL-Cas9)/wt',\n",
       "       'Drd1a-Cre/wt;Adora2a-T2A-FlpO/wt;Ai233(TICL-ChRmine-TS-GFP-WPRE-ICF-CoChR-oScarlet-WPRE)-hyg/wt',\n",
       "       'VGAT-ChR2-YFP/wt', 'Sert-Cre/wt', 'Drd3-Cre_KI196/wt',\n",
       "       'Calcr-Cre/wt'], dtype=object)"
      ]
     },
     "execution_count": 9,
     "metadata": {},
     "output_type": "execute_result"
    }
   ],
   "source": [
    "metadata.genotype.unique()"
   ]
  },
  {
   "cell_type": "markdown",
   "id": "66be6912-24a7-416c-b3cd-2cb34b4bd7a1",
   "metadata": {
    "tags": []
   },
   "source": [
    "<div style=\"background: #DFF0D8; border-radius: 3px; padding: 10px;\">\n",
    "\n",
    "**Exercise:** What structures were targeted? If not in metadata, might need to infer from Data Book or NWB file itself. "
   ]
  },
  {
   "cell_type": "code",
   "execution_count": 14,
   "id": "d76cb2e4-ef24-4dda-adc5-2bad589fafd2",
   "metadata": {
    "tags": []
   },
   "outputs": [],
   "source": [
    "# n/a "
   ]
  },
  {
   "cell_type": "code",
   "execution_count": 17,
   "id": "640a8db9-e4c3-40b0-bb61-c7f560f9b929",
   "metadata": {
    "tags": []
   },
   "outputs": [],
   "source": [
    "# # Load session data \n",
    "\n",
    "nwb_path_zarr = '/data/dynamic-foraging-behavior/behavior_729678_2025-01-10_09-24-20_processed_2025-02-22_15-57-11/nwb/behavior_729678_2025-01-10_09-24-20.nwb'"
   ]
  },
  {
   "cell_type": "code",
   "execution_count": 18,
   "id": "41284ee2-2609-4787-a22d-237f6b99cd14",
   "metadata": {
    "tags": []
   },
   "outputs": [
    {
     "name": "stderr",
     "output_type": "stream",
     "text": [
      "/opt/conda/lib/python3.10/site-packages/hdmf/spec/namespace.py:535: UserWarning: Ignoring cached namespace 'core' version 2.7.0 because version 2.8.0 is already loaded.\n",
      "  warn(\"Ignoring cached namespace '%s' version %s because version %s is already loaded.\"\n"
     ]
    }
   ],
   "source": [
    "io = NWBZarrIO(nwb_path_zarr, mode = 'r') \n",
    "nwbfile_zarr = io.read()"
   ]
  },
  {
   "cell_type": "code",
   "execution_count": 19,
   "id": "4c81eaad-f903-4b3c-b347-d6d146bc524c",
   "metadata": {
    "tags": []
   },
   "outputs": [
    {
     "data": {
      "application/vnd.jupyter.widget-view+json": {
       "model_id": "2ce8708c95c74e78a6ba7d5ae3662fe1",
       "version_major": 2,
       "version_minor": 0
      },
      "text/plain": [
       "VBox(children=(HBox(children=(Label(value='session_description:', layout=Layout(max_height='40px', max_width='…"
      ]
     },
     "execution_count": 19,
     "metadata": {},
     "output_type": "execute_result"
    }
   ],
   "source": [
    "nwb2widget(nwbfile_zarr)"
   ]
  },
  {
   "cell_type": "markdown",
   "id": "517ec34d-77fe-4453-a666-ce0c9177417f",
   "metadata": {},
   "source": [
    "<div style=\"background: #DFF0D8; border-radius: 3px; padding: 10px;\">\n",
    "\n",
    "**Exercise**: What units/neurons are available? How many neurons were recorded in this session? Has the data been pre-filtered based on quality control metrics? "
   ]
  },
  {
   "cell_type": "code",
   "execution_count": 21,
   "id": "030f7951-4722-49f9-8fc9-5687033daa79",
   "metadata": {
    "tags": []
   },
   "outputs": [],
   "source": [
    "# n/a "
   ]
  },
  {
   "cell_type": "markdown",
   "id": "ff806faa-1be3-4f4c-a0fa-6fc807ead5f3",
   "metadata": {},
   "source": [
    "<div style=\"background: #DFF0D8; border-radius: 3px; padding: 10px;\">\n",
    "\n",
    "**Exercise**: What stimuli, behaviors, and conditions were applied or recorded in this experiment? "
   ]
  },
  {
   "cell_type": "code",
   "execution_count": 42,
   "id": "452d5495-d846-4ed3-8876-593f7fcba622",
   "metadata": {
    "tags": []
   },
   "outputs": [
    {
     "data": {
      "text/html": [
       "<div>\n",
       "<style scoped>\n",
       "    .dataframe tbody tr th:only-of-type {\n",
       "        vertical-align: middle;\n",
       "    }\n",
       "\n",
       "    .dataframe tbody tr th {\n",
       "        vertical-align: top;\n",
       "    }\n",
       "\n",
       "    .dataframe thead th {\n",
       "        text-align: right;\n",
       "    }\n",
       "</style>\n",
       "<table border=\"1\" class=\"dataframe\">\n",
       "  <thead>\n",
       "    <tr style=\"text-align: right;\">\n",
       "      <th></th>\n",
       "      <th>start_time</th>\n",
       "      <th>stop_time</th>\n",
       "      <th>animal_response</th>\n",
       "      <th>rewarded_historyL</th>\n",
       "      <th>rewarded_historyR</th>\n",
       "      <th>delay_start_time</th>\n",
       "      <th>goCue_start_time</th>\n",
       "      <th>reward_outcome_time</th>\n",
       "      <th>bait_left</th>\n",
       "      <th>bait_right</th>\n",
       "      <th>...</th>\n",
       "      <th>auto_train_curriculum_version</th>\n",
       "      <th>auto_train_curriculum_schema_version</th>\n",
       "      <th>auto_train_stage</th>\n",
       "      <th>auto_train_stage_overridden</th>\n",
       "      <th>lickspout_position_x</th>\n",
       "      <th>lickspout_position_y1</th>\n",
       "      <th>lickspout_position_y2</th>\n",
       "      <th>lickspout_position_z</th>\n",
       "      <th>reward_size_left</th>\n",
       "      <th>reward_size_right</th>\n",
       "    </tr>\n",
       "    <tr>\n",
       "      <th>id</th>\n",
       "      <th></th>\n",
       "      <th></th>\n",
       "      <th></th>\n",
       "      <th></th>\n",
       "      <th></th>\n",
       "      <th></th>\n",
       "      <th></th>\n",
       "      <th></th>\n",
       "      <th></th>\n",
       "      <th></th>\n",
       "      <th></th>\n",
       "      <th></th>\n",
       "      <th></th>\n",
       "      <th></th>\n",
       "      <th></th>\n",
       "      <th></th>\n",
       "      <th></th>\n",
       "      <th></th>\n",
       "      <th></th>\n",
       "      <th></th>\n",
       "      <th></th>\n",
       "    </tr>\n",
       "  </thead>\n",
       "  <tbody>\n",
       "    <tr>\n",
       "      <th>0</th>\n",
       "      <td>1.889993e+07</td>\n",
       "      <td>1.889993e+07</td>\n",
       "      <td>1.0</td>\n",
       "      <td>False</td>\n",
       "      <td>False</td>\n",
       "      <td>1.889993e+07</td>\n",
       "      <td>1.889993e+07</td>\n",
       "      <td>1.889993e+07</td>\n",
       "      <td>True</td>\n",
       "      <td>False</td>\n",
       "      <td>...</td>\n",
       "      <td>2.3</td>\n",
       "      <td>1.0</td>\n",
       "      <td>GRADUATED</td>\n",
       "      <td>NaN</td>\n",
       "      <td>15.6</td>\n",
       "      <td>22.0</td>\n",
       "      <td>22.0</td>\n",
       "      <td>18.0</td>\n",
       "      <td>2.0</td>\n",
       "      <td>2.0</td>\n",
       "    </tr>\n",
       "    <tr>\n",
       "      <th>1</th>\n",
       "      <td>1.889993e+07</td>\n",
       "      <td>1.889994e+07</td>\n",
       "      <td>1.0</td>\n",
       "      <td>False</td>\n",
       "      <td>True</td>\n",
       "      <td>1.889994e+07</td>\n",
       "      <td>1.889994e+07</td>\n",
       "      <td>1.889994e+07</td>\n",
       "      <td>True</td>\n",
       "      <td>True</td>\n",
       "      <td>...</td>\n",
       "      <td>2.3</td>\n",
       "      <td>1.0</td>\n",
       "      <td>GRADUATED</td>\n",
       "      <td>NaN</td>\n",
       "      <td>15.6</td>\n",
       "      <td>22.0</td>\n",
       "      <td>22.0</td>\n",
       "      <td>18.0</td>\n",
       "      <td>2.0</td>\n",
       "      <td>2.0</td>\n",
       "    </tr>\n",
       "    <tr>\n",
       "      <th>2</th>\n",
       "      <td>1.889994e+07</td>\n",
       "      <td>1.889995e+07</td>\n",
       "      <td>1.0</td>\n",
       "      <td>False</td>\n",
       "      <td>True</td>\n",
       "      <td>1.889994e+07</td>\n",
       "      <td>1.889994e+07</td>\n",
       "      <td>1.889994e+07</td>\n",
       "      <td>True</td>\n",
       "      <td>True</td>\n",
       "      <td>...</td>\n",
       "      <td>2.3</td>\n",
       "      <td>1.0</td>\n",
       "      <td>GRADUATED</td>\n",
       "      <td>NaN</td>\n",
       "      <td>15.6</td>\n",
       "      <td>22.0</td>\n",
       "      <td>22.0</td>\n",
       "      <td>18.0</td>\n",
       "      <td>2.0</td>\n",
       "      <td>2.0</td>\n",
       "    </tr>\n",
       "    <tr>\n",
       "      <th>3</th>\n",
       "      <td>1.889995e+07</td>\n",
       "      <td>1.889995e+07</td>\n",
       "      <td>1.0</td>\n",
       "      <td>False</td>\n",
       "      <td>False</td>\n",
       "      <td>1.889995e+07</td>\n",
       "      <td>1.889995e+07</td>\n",
       "      <td>1.889995e+07</td>\n",
       "      <td>True</td>\n",
       "      <td>False</td>\n",
       "      <td>...</td>\n",
       "      <td>2.3</td>\n",
       "      <td>1.0</td>\n",
       "      <td>GRADUATED</td>\n",
       "      <td>NaN</td>\n",
       "      <td>15.6</td>\n",
       "      <td>22.0</td>\n",
       "      <td>22.0</td>\n",
       "      <td>18.0</td>\n",
       "      <td>2.0</td>\n",
       "      <td>2.0</td>\n",
       "    </tr>\n",
       "    <tr>\n",
       "      <th>4</th>\n",
       "      <td>1.889995e+07</td>\n",
       "      <td>1.889996e+07</td>\n",
       "      <td>1.0</td>\n",
       "      <td>False</td>\n",
       "      <td>True</td>\n",
       "      <td>1.889996e+07</td>\n",
       "      <td>1.889996e+07</td>\n",
       "      <td>1.889996e+07</td>\n",
       "      <td>True</td>\n",
       "      <td>True</td>\n",
       "      <td>...</td>\n",
       "      <td>2.3</td>\n",
       "      <td>1.0</td>\n",
       "      <td>GRADUATED</td>\n",
       "      <td>NaN</td>\n",
       "      <td>15.6</td>\n",
       "      <td>22.0</td>\n",
       "      <td>22.0</td>\n",
       "      <td>18.0</td>\n",
       "      <td>2.0</td>\n",
       "      <td>2.0</td>\n",
       "    </tr>\n",
       "    <tr>\n",
       "      <th>...</th>\n",
       "      <td>...</td>\n",
       "      <td>...</td>\n",
       "      <td>...</td>\n",
       "      <td>...</td>\n",
       "      <td>...</td>\n",
       "      <td>...</td>\n",
       "      <td>...</td>\n",
       "      <td>...</td>\n",
       "      <td>...</td>\n",
       "      <td>...</td>\n",
       "      <td>...</td>\n",
       "      <td>...</td>\n",
       "      <td>...</td>\n",
       "      <td>...</td>\n",
       "      <td>...</td>\n",
       "      <td>...</td>\n",
       "      <td>...</td>\n",
       "      <td>...</td>\n",
       "      <td>...</td>\n",
       "      <td>...</td>\n",
       "      <td>...</td>\n",
       "    </tr>\n",
       "    <tr>\n",
       "      <th>521</th>\n",
       "      <td>1.890439e+07</td>\n",
       "      <td>1.890440e+07</td>\n",
       "      <td>1.0</td>\n",
       "      <td>False</td>\n",
       "      <td>True</td>\n",
       "      <td>1.890440e+07</td>\n",
       "      <td>1.890440e+07</td>\n",
       "      <td>1.890440e+07</td>\n",
       "      <td>True</td>\n",
       "      <td>True</td>\n",
       "      <td>...</td>\n",
       "      <td>2.3</td>\n",
       "      <td>1.0</td>\n",
       "      <td>GRADUATED</td>\n",
       "      <td>NaN</td>\n",
       "      <td>15.6</td>\n",
       "      <td>22.0</td>\n",
       "      <td>22.0</td>\n",
       "      <td>18.0</td>\n",
       "      <td>2.0</td>\n",
       "      <td>2.0</td>\n",
       "    </tr>\n",
       "    <tr>\n",
       "      <th>522</th>\n",
       "      <td>1.890440e+07</td>\n",
       "      <td>1.890441e+07</td>\n",
       "      <td>1.0</td>\n",
       "      <td>False</td>\n",
       "      <td>True</td>\n",
       "      <td>1.890441e+07</td>\n",
       "      <td>1.890441e+07</td>\n",
       "      <td>1.890441e+07</td>\n",
       "      <td>True</td>\n",
       "      <td>True</td>\n",
       "      <td>...</td>\n",
       "      <td>2.3</td>\n",
       "      <td>1.0</td>\n",
       "      <td>GRADUATED</td>\n",
       "      <td>NaN</td>\n",
       "      <td>15.6</td>\n",
       "      <td>22.0</td>\n",
       "      <td>22.0</td>\n",
       "      <td>18.0</td>\n",
       "      <td>2.0</td>\n",
       "      <td>2.0</td>\n",
       "    </tr>\n",
       "    <tr>\n",
       "      <th>523</th>\n",
       "      <td>1.890441e+07</td>\n",
       "      <td>1.890442e+07</td>\n",
       "      <td>1.0</td>\n",
       "      <td>False</td>\n",
       "      <td>True</td>\n",
       "      <td>1.890441e+07</td>\n",
       "      <td>1.890441e+07</td>\n",
       "      <td>1.890441e+07</td>\n",
       "      <td>True</td>\n",
       "      <td>True</td>\n",
       "      <td>...</td>\n",
       "      <td>2.3</td>\n",
       "      <td>1.0</td>\n",
       "      <td>GRADUATED</td>\n",
       "      <td>NaN</td>\n",
       "      <td>15.6</td>\n",
       "      <td>22.0</td>\n",
       "      <td>22.0</td>\n",
       "      <td>18.0</td>\n",
       "      <td>2.0</td>\n",
       "      <td>2.0</td>\n",
       "    </tr>\n",
       "    <tr>\n",
       "      <th>524</th>\n",
       "      <td>1.890442e+07</td>\n",
       "      <td>1.890442e+07</td>\n",
       "      <td>1.0</td>\n",
       "      <td>False</td>\n",
       "      <td>True</td>\n",
       "      <td>1.890442e+07</td>\n",
       "      <td>1.890442e+07</td>\n",
       "      <td>1.890442e+07</td>\n",
       "      <td>True</td>\n",
       "      <td>True</td>\n",
       "      <td>...</td>\n",
       "      <td>2.3</td>\n",
       "      <td>1.0</td>\n",
       "      <td>GRADUATED</td>\n",
       "      <td>NaN</td>\n",
       "      <td>15.6</td>\n",
       "      <td>22.0</td>\n",
       "      <td>22.0</td>\n",
       "      <td>18.0</td>\n",
       "      <td>2.0</td>\n",
       "      <td>2.0</td>\n",
       "    </tr>\n",
       "    <tr>\n",
       "      <th>525</th>\n",
       "      <td>1.890442e+07</td>\n",
       "      <td>1.890443e+07</td>\n",
       "      <td>1.0</td>\n",
       "      <td>False</td>\n",
       "      <td>False</td>\n",
       "      <td>1.890443e+07</td>\n",
       "      <td>1.890443e+07</td>\n",
       "      <td>1.890443e+07</td>\n",
       "      <td>True</td>\n",
       "      <td>False</td>\n",
       "      <td>...</td>\n",
       "      <td>2.3</td>\n",
       "      <td>1.0</td>\n",
       "      <td>GRADUATED</td>\n",
       "      <td>NaN</td>\n",
       "      <td>15.6</td>\n",
       "      <td>22.0</td>\n",
       "      <td>22.0</td>\n",
       "      <td>18.0</td>\n",
       "      <td>2.0</td>\n",
       "      <td>2.0</td>\n",
       "    </tr>\n",
       "  </tbody>\n",
       "</table>\n",
       "<p>526 rows × 60 columns</p>\n",
       "</div>"
      ],
      "text/plain": [
       "       start_time     stop_time  animal_response  rewarded_historyL  \\\n",
       "id                                                                    \n",
       "0    1.889993e+07  1.889993e+07              1.0              False   \n",
       "1    1.889993e+07  1.889994e+07              1.0              False   \n",
       "2    1.889994e+07  1.889995e+07              1.0              False   \n",
       "3    1.889995e+07  1.889995e+07              1.0              False   \n",
       "4    1.889995e+07  1.889996e+07              1.0              False   \n",
       "..            ...           ...              ...                ...   \n",
       "521  1.890439e+07  1.890440e+07              1.0              False   \n",
       "522  1.890440e+07  1.890441e+07              1.0              False   \n",
       "523  1.890441e+07  1.890442e+07              1.0              False   \n",
       "524  1.890442e+07  1.890442e+07              1.0              False   \n",
       "525  1.890442e+07  1.890443e+07              1.0              False   \n",
       "\n",
       "     rewarded_historyR  delay_start_time  goCue_start_time  \\\n",
       "id                                                           \n",
       "0                False      1.889993e+07      1.889993e+07   \n",
       "1                 True      1.889994e+07      1.889994e+07   \n",
       "2                 True      1.889994e+07      1.889994e+07   \n",
       "3                False      1.889995e+07      1.889995e+07   \n",
       "4                 True      1.889996e+07      1.889996e+07   \n",
       "..                 ...               ...               ...   \n",
       "521               True      1.890440e+07      1.890440e+07   \n",
       "522               True      1.890441e+07      1.890441e+07   \n",
       "523               True      1.890441e+07      1.890441e+07   \n",
       "524               True      1.890442e+07      1.890442e+07   \n",
       "525              False      1.890443e+07      1.890443e+07   \n",
       "\n",
       "     reward_outcome_time  bait_left  bait_right  ...  \\\n",
       "id                                               ...   \n",
       "0           1.889993e+07       True       False  ...   \n",
       "1           1.889994e+07       True        True  ...   \n",
       "2           1.889994e+07       True        True  ...   \n",
       "3           1.889995e+07       True       False  ...   \n",
       "4           1.889996e+07       True        True  ...   \n",
       "..                   ...        ...         ...  ...   \n",
       "521         1.890440e+07       True        True  ...   \n",
       "522         1.890441e+07       True        True  ...   \n",
       "523         1.890441e+07       True        True  ...   \n",
       "524         1.890442e+07       True        True  ...   \n",
       "525         1.890443e+07       True       False  ...   \n",
       "\n",
       "     auto_train_curriculum_version  auto_train_curriculum_schema_version  \\\n",
       "id                                                                         \n",
       "0                              2.3                                   1.0   \n",
       "1                              2.3                                   1.0   \n",
       "2                              2.3                                   1.0   \n",
       "3                              2.3                                   1.0   \n",
       "4                              2.3                                   1.0   \n",
       "..                             ...                                   ...   \n",
       "521                            2.3                                   1.0   \n",
       "522                            2.3                                   1.0   \n",
       "523                            2.3                                   1.0   \n",
       "524                            2.3                                   1.0   \n",
       "525                            2.3                                   1.0   \n",
       "\n",
       "     auto_train_stage  auto_train_stage_overridden  lickspout_position_x  \\\n",
       "id                                                                         \n",
       "0           GRADUATED                          NaN                  15.6   \n",
       "1           GRADUATED                          NaN                  15.6   \n",
       "2           GRADUATED                          NaN                  15.6   \n",
       "3           GRADUATED                          NaN                  15.6   \n",
       "4           GRADUATED                          NaN                  15.6   \n",
       "..                ...                          ...                   ...   \n",
       "521         GRADUATED                          NaN                  15.6   \n",
       "522         GRADUATED                          NaN                  15.6   \n",
       "523         GRADUATED                          NaN                  15.6   \n",
       "524         GRADUATED                          NaN                  15.6   \n",
       "525         GRADUATED                          NaN                  15.6   \n",
       "\n",
       "     lickspout_position_y1  lickspout_position_y2  lickspout_position_z  \\\n",
       "id                                                                        \n",
       "0                     22.0                   22.0                  18.0   \n",
       "1                     22.0                   22.0                  18.0   \n",
       "2                     22.0                   22.0                  18.0   \n",
       "3                     22.0                   22.0                  18.0   \n",
       "4                     22.0                   22.0                  18.0   \n",
       "..                     ...                    ...                   ...   \n",
       "521                   22.0                   22.0                  18.0   \n",
       "522                   22.0                   22.0                  18.0   \n",
       "523                   22.0                   22.0                  18.0   \n",
       "524                   22.0                   22.0                  18.0   \n",
       "525                   22.0                   22.0                  18.0   \n",
       "\n",
       "     reward_size_left  reward_size_right  \n",
       "id                                        \n",
       "0                 2.0                2.0  \n",
       "1                 2.0                2.0  \n",
       "2                 2.0                2.0  \n",
       "3                 2.0                2.0  \n",
       "4                 2.0                2.0  \n",
       "..                ...                ...  \n",
       "521               2.0                2.0  \n",
       "522               2.0                2.0  \n",
       "523               2.0                2.0  \n",
       "524               2.0                2.0  \n",
       "525               2.0                2.0  \n",
       "\n",
       "[526 rows x 60 columns]"
      ]
     },
     "execution_count": 42,
     "metadata": {},
     "output_type": "execute_result"
    }
   ],
   "source": [
    "trials = nwbfile_zarr.intervals['trials'].to_dataframe()\n",
    "trials"
   ]
  },
  {
   "cell_type": "code",
   "execution_count": 43,
   "id": "5ba4da2b-77de-4b2a-91f4-fd4fe836bfc1",
   "metadata": {
    "tags": []
   },
   "outputs": [
    {
     "data": {
      "text/plain": [
       "Index(['start_time', 'stop_time', 'animal_response', 'rewarded_historyL',\n",
       "       'rewarded_historyR', 'delay_start_time', 'goCue_start_time',\n",
       "       'reward_outcome_time', 'bait_left', 'bait_right',\n",
       "       'base_reward_probability_sum', 'reward_probabilityL',\n",
       "       'reward_probabilityR', 'reward_random_number_left',\n",
       "       'reward_random_number_right', 'left_valve_open_time',\n",
       "       'right_valve_open_time', 'block_beta', 'block_min', 'block_max',\n",
       "       'min_reward_each_block', 'delay_beta', 'delay_min', 'delay_max',\n",
       "       'delay_duration', 'ITI_beta', 'ITI_min', 'ITI_max', 'ITI_duration',\n",
       "       'response_duration', 'reward_consumption_duration', 'laser_on_trial',\n",
       "       'laser_wavelength', 'laser_location', 'laser_power', 'laser_duration',\n",
       "       'laser_condition', 'laser_condition_probability', 'laser_start',\n",
       "       'laser_start_offset', 'laser_end', 'laser_end_offset', 'laser_protocol',\n",
       "       'laser_frequency', 'laser_rampingdown', 'laser_pulse_duration',\n",
       "       'auto_waterL', 'auto_waterR', 'auto_train_engaged',\n",
       "       'auto_train_curriculum_name', 'auto_train_curriculum_version',\n",
       "       'auto_train_curriculum_schema_version', 'auto_train_stage',\n",
       "       'auto_train_stage_overridden', 'lickspout_position_x',\n",
       "       'lickspout_position_y1', 'lickspout_position_y2',\n",
       "       'lickspout_position_z', 'reward_size_left', 'reward_size_right'],\n",
       "      dtype='object')"
      ]
     },
     "execution_count": 43,
     "metadata": {},
     "output_type": "execute_result"
    }
   ],
   "source": [
    "trials.columns"
   ]
  },
  {
   "cell_type": "markdown",
   "id": "eca99556-6135-45a3-b928-fe521dc301b9",
   "metadata": {
    "tags": []
   },
   "source": [
    "<div style=\"background: #DFF0D8; border-radius: 3px; padding: 10px;\">\n",
    "\n",
    "**Exercise**: How long is a session? "
   ]
  },
  {
   "cell_type": "code",
   "execution_count": 58,
   "id": "e609c0e7-45d4-4fe9-aec9-9a09136b74db",
   "metadata": {
    "tags": []
   },
   "outputs": [
    {
     "data": {
      "text/plain": [
       "np.float64(75.04583306666464)"
      ]
     },
     "execution_count": 58,
     "metadata": {},
     "output_type": "execute_result"
    }
   ],
   "source": [
    "((trials.stop_time.iloc[len(trials)-1]) - trials.start_time.iloc[0])/60"
   ]
  },
  {
   "cell_type": "markdown",
   "id": "4f36159c-b894-4546-88f4-7e2fb28a4b5b",
   "metadata": {},
   "source": [
    "<div style=\"background: #DFF0D8; border-radius: 3px; padding: 10px;\">\n",
    "\n",
    "**Exercise**: What is the sampling rate? "
   ]
  },
  {
   "cell_type": "code",
   "execution_count": 59,
   "id": "23b7de78-1a3d-4acb-821e-f665343bb432",
   "metadata": {
    "tags": []
   },
   "outputs": [],
   "source": [
    "#n/a"
   ]
  },
  {
   "cell_type": "markdown",
   "id": "3354b1d8-835f-4a97-9106-da946d8c6da2",
   "metadata": {},
   "source": [
    "<div style=\"background: #DFF0D8; border-radius: 3px; padding: 10px;\">\n",
    "\n",
    "**Exercise**: Did the mice receive behavior training before recording sessions? Are the sessions longitudinal? "
   ]
  },
  {
   "cell_type": "markdown",
   "id": "0dbb5f7e-5c6f-4e09-8371-43d1045fb74d",
   "metadata": {},
   "source": [
    "Dataset encapsulates mouse's Dynamic Foraging Behavior training sessions "
   ]
  }
 ],
 "metadata": {
  "kernelspec": {
   "display_name": "Python 3 (ipykernel)",
   "language": "python",
   "name": "python3"
  },
  "language_info": {
   "codemirror_mode": {
    "name": "ipython",
    "version": 3
   },
   "file_extension": ".py",
   "mimetype": "text/x-python",
   "name": "python",
   "nbconvert_exporter": "python",
   "pygments_lexer": "ipython3",
   "version": "3.10.12"
  }
 },
 "nbformat": 4,
 "nbformat_minor": 5
}
