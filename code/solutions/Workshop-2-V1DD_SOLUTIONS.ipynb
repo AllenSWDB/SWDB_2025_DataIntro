{
 "cells": [
  {
   "cell_type": "code",
   "execution_count": 46,
   "id": "95c1a3c8-4900-4a5f-9c6d-6f748da92f1b",
   "metadata": {
    "tags": []
   },
   "outputs": [],
   "source": [
    "# # general imports \n",
    "import os\n",
    "from pathlib import Path\n",
    "import numpy as np\n",
    "import pandas as pd \n",
    "\n",
    "# nwb specific imports \n",
    "import pynwb\n",
    "from nwbwidgets import nwb2widget\n",
    "from hdmf_zarr import NWBZarrIO "
   ]
  },
  {
   "cell_type": "code",
   "execution_count": 106,
   "id": "fafb489f-ab6e-480f-9b09-1b420b2d8c97",
   "metadata": {
    "tags": []
   },
   "outputs": [
    {
     "data": {
      "text/html": [
       "<div>\n",
       "<style scoped>\n",
       "    .dataframe tbody tr th:only-of-type {\n",
       "        vertical-align: middle;\n",
       "    }\n",
       "\n",
       "    .dataframe tbody tr th {\n",
       "        vertical-align: top;\n",
       "    }\n",
       "\n",
       "    .dataframe thead th {\n",
       "        text-align: right;\n",
       "    }\n",
       "</style>\n",
       "<table border=\"1\" class=\"dataframe\">\n",
       "  <thead>\n",
       "    <tr style=\"text-align: right;\">\n",
       "      <th></th>\n",
       "      <th>project_name</th>\n",
       "      <th>_id</th>\n",
       "      <th>name</th>\n",
       "      <th>subject_id</th>\n",
       "      <th>golden_mouse</th>\n",
       "      <th>genotype</th>\n",
       "      <th>date_of_birth</th>\n",
       "      <th>sex</th>\n",
       "      <th>modality</th>\n",
       "      <th>session_date</th>\n",
       "      <th>age</th>\n",
       "      <th>session_time</th>\n",
       "      <th>column</th>\n",
       "      <th>volume</th>\n",
       "    </tr>\n",
       "  </thead>\n",
       "  <tbody>\n",
       "    <tr>\n",
       "      <th>0</th>\n",
       "      <td>V1 Deep Dive</td>\n",
       "      <td>3b85c659-20c8-438f-ab58-de1aac3b81cf</td>\n",
       "      <td>416296_2018-11-29_12-08-40_nwb_2025-08-08_16-2...</td>\n",
       "      <td>416296</td>\n",
       "      <td>False</td>\n",
       "      <td>Camk2a-tTA/wt;tetO-GCaMP6s/wt</td>\n",
       "      <td>2018-08-06</td>\n",
       "      <td>Female</td>\n",
       "      <td>['Planar optical physiology', 'Behavior videos']</td>\n",
       "      <td>2018-11-29</td>\n",
       "      <td>115</td>\n",
       "      <td>12:08:40.014190</td>\n",
       "      <td>2</td>\n",
       "      <td>5</td>\n",
       "    </tr>\n",
       "    <tr>\n",
       "      <th>1</th>\n",
       "      <td>V1 Deep Dive</td>\n",
       "      <td>b98ce4a9-a66b-4b70-baa6-95ef451ae087</td>\n",
       "      <td>427836_2019-04-25_12-16-58_nwb_2025-08-08_16-2...</td>\n",
       "      <td>427836</td>\n",
       "      <td>False</td>\n",
       "      <td>Slc17a7-IRES2-Cre/wt;Camk2a-tTA/wt;Ai94(TITL-G...</td>\n",
       "      <td>2018-10-08</td>\n",
       "      <td>Female</td>\n",
       "      <td>['Planar optical physiology', 'Behavior videos']</td>\n",
       "      <td>2019-04-25</td>\n",
       "      <td>199</td>\n",
       "      <td>12:16:58.240890</td>\n",
       "      <td>5</td>\n",
       "      <td>3</td>\n",
       "    </tr>\n",
       "    <tr>\n",
       "      <th>2</th>\n",
       "      <td>V1 Deep Dive</td>\n",
       "      <td>5cccd09c-4ae8-4d8e-ae92-23099d22bbe2</td>\n",
       "      <td>427836_2019-04-24_13-06-45_nwb_2025-08-08_16-2...</td>\n",
       "      <td>427836</td>\n",
       "      <td>False</td>\n",
       "      <td>Slc17a7-IRES2-Cre/wt;Camk2a-tTA/wt;Ai94(TITL-G...</td>\n",
       "      <td>2018-10-08</td>\n",
       "      <td>Female</td>\n",
       "      <td>['Planar optical physiology', 'Behavior videos']</td>\n",
       "      <td>2019-04-24</td>\n",
       "      <td>198</td>\n",
       "      <td>13:06:45.257460</td>\n",
       "      <td>4</td>\n",
       "      <td>3</td>\n",
       "    </tr>\n",
       "    <tr>\n",
       "      <th>3</th>\n",
       "      <td>V1 Deep Dive</td>\n",
       "      <td>911d215f-dafa-4b39-86f7-b36336974da1</td>\n",
       "      <td>427836_2019-04-25_13-49-39_nwb_2025-08-08_16-2...</td>\n",
       "      <td>427836</td>\n",
       "      <td>False</td>\n",
       "      <td>Slc17a7-IRES2-Cre/wt;Camk2a-tTA/wt;Ai94(TITL-G...</td>\n",
       "      <td>2018-10-08</td>\n",
       "      <td>Female</td>\n",
       "      <td>['Planar optical physiology', 'Behavior videos']</td>\n",
       "      <td>2019-04-25</td>\n",
       "      <td>199</td>\n",
       "      <td>13:49:39.163550</td>\n",
       "      <td>5</td>\n",
       "      <td>4</td>\n",
       "    </tr>\n",
       "    <tr>\n",
       "      <th>4</th>\n",
       "      <td>V1 Deep Dive</td>\n",
       "      <td>c918f874-d534-4341-b0dc-f1aba388af66</td>\n",
       "      <td>427836_2019-04-26_12-54-40_nwb_2025-08-08_16-2...</td>\n",
       "      <td>427836</td>\n",
       "      <td>False</td>\n",
       "      <td>Slc17a7-IRES2-Cre/wt;Camk2a-tTA/wt;Ai94(TITL-G...</td>\n",
       "      <td>2018-10-08</td>\n",
       "      <td>Female</td>\n",
       "      <td>['Planar optical physiology', 'Behavior videos']</td>\n",
       "      <td>2019-04-26</td>\n",
       "      <td>200</td>\n",
       "      <td>12:54:40.332660</td>\n",
       "      <td>2</td>\n",
       "      <td>4</td>\n",
       "    </tr>\n",
       "  </tbody>\n",
       "</table>\n",
       "</div>"
      ],
      "text/plain": [
       "   project_name                                   _id  \\\n",
       "0  V1 Deep Dive  3b85c659-20c8-438f-ab58-de1aac3b81cf   \n",
       "1  V1 Deep Dive  b98ce4a9-a66b-4b70-baa6-95ef451ae087   \n",
       "2  V1 Deep Dive  5cccd09c-4ae8-4d8e-ae92-23099d22bbe2   \n",
       "3  V1 Deep Dive  911d215f-dafa-4b39-86f7-b36336974da1   \n",
       "4  V1 Deep Dive  c918f874-d534-4341-b0dc-f1aba388af66   \n",
       "\n",
       "                                                name  subject_id  \\\n",
       "0  416296_2018-11-29_12-08-40_nwb_2025-08-08_16-2...      416296   \n",
       "1  427836_2019-04-25_12-16-58_nwb_2025-08-08_16-2...      427836   \n",
       "2  427836_2019-04-24_13-06-45_nwb_2025-08-08_16-2...      427836   \n",
       "3  427836_2019-04-25_13-49-39_nwb_2025-08-08_16-2...      427836   \n",
       "4  427836_2019-04-26_12-54-40_nwb_2025-08-08_16-2...      427836   \n",
       "\n",
       "   golden_mouse                                           genotype  \\\n",
       "0         False                      Camk2a-tTA/wt;tetO-GCaMP6s/wt   \n",
       "1         False  Slc17a7-IRES2-Cre/wt;Camk2a-tTA/wt;Ai94(TITL-G...   \n",
       "2         False  Slc17a7-IRES2-Cre/wt;Camk2a-tTA/wt;Ai94(TITL-G...   \n",
       "3         False  Slc17a7-IRES2-Cre/wt;Camk2a-tTA/wt;Ai94(TITL-G...   \n",
       "4         False  Slc17a7-IRES2-Cre/wt;Camk2a-tTA/wt;Ai94(TITL-G...   \n",
       "\n",
       "  date_of_birth     sex                                          modality  \\\n",
       "0    2018-08-06  Female  ['Planar optical physiology', 'Behavior videos']   \n",
       "1    2018-10-08  Female  ['Planar optical physiology', 'Behavior videos']   \n",
       "2    2018-10-08  Female  ['Planar optical physiology', 'Behavior videos']   \n",
       "3    2018-10-08  Female  ['Planar optical physiology', 'Behavior videos']   \n",
       "4    2018-10-08  Female  ['Planar optical physiology', 'Behavior videos']   \n",
       "\n",
       "  session_date  age     session_time  column  volume  \n",
       "0   2018-11-29  115  12:08:40.014190       2       5  \n",
       "1   2019-04-25  199  12:16:58.240890       5       3  \n",
       "2   2019-04-24  198  13:06:45.257460       4       3  \n",
       "3   2019-04-25  199  13:49:39.163550       5       4  \n",
       "4   2019-04-26  200  12:54:40.332660       2       4  "
      ]
     },
     "execution_count": 106,
     "metadata": {},
     "output_type": "execute_result"
    }
   ],
   "source": [
    "# Load metadata CSV \n",
    "\n",
    "metadata = pd.read_csv('/data/metadata/V1DD_metadata.csv') # V1DD \n",
    "metadata.head()"
   ]
  },
  {
   "cell_type": "code",
   "execution_count": 9,
   "id": "236e6749-dfb1-4417-8a3a-3ee2a82f961b",
   "metadata": {
    "tags": []
   },
   "outputs": [
    {
     "data": {
      "text/plain": [
       "Index(['project_name', '_id', 'name', 'subject_id', 'golden_mouse', 'genotype',\n",
       "       'date_of_birth', 'sex', 'modality', 'session_date', 'age',\n",
       "       'session_time', 'column', 'volume'],\n",
       "      dtype='object')"
      ]
     },
     "execution_count": 9,
     "metadata": {},
     "output_type": "execute_result"
    }
   ],
   "source": [
    "metadata.columns"
   ]
  },
  {
   "cell_type": "markdown",
   "id": "eb67262a-7ef7-4d0a-afa5-2879020afd6d",
   "metadata": {},
   "source": [
    "<div style=\"background: #DFF0D8; border-radius: 3px; padding: 10px;\">\n",
    "\n",
    "**Exercise:** What modality was used?\n",
    "</div>"
   ]
  },
  {
   "cell_type": "code",
   "execution_count": 3,
   "id": "265ce895-b059-40f7-8012-130a0bc97a32",
   "metadata": {
    "tags": []
   },
   "outputs": [
    {
     "data": {
      "text/plain": [
       "array([\"['Planar optical physiology', 'Behavior videos']\"], dtype=object)"
      ]
     },
     "execution_count": 3,
     "metadata": {},
     "output_type": "execute_result"
    }
   ],
   "source": [
    "metadata.modality.unique()"
   ]
  },
  {
   "cell_type": "markdown",
   "id": "d6ac379e-02bc-4a76-89d1-8f911b30b605",
   "metadata": {
    "tags": []
   },
   "source": [
    "<div style=\"background: #DFF0D8; border-radius: 3px; padding: 10px;\">\n",
    "\n",
    "**Exercise:** How many mice were used in this dataset?\n",
    "</div>"
   ]
  },
  {
   "cell_type": "code",
   "execution_count": 6,
   "id": "45885ce2-9a97-455e-af4a-7c95ecc1eca5",
   "metadata": {
    "tags": []
   },
   "outputs": [
    {
     "data": {
      "text/plain": [
       "4"
      ]
     },
     "execution_count": 6,
     "metadata": {},
     "output_type": "execute_result"
    }
   ],
   "source": [
    "len(metadata.subject_id.unique())"
   ]
  },
  {
   "cell_type": "markdown",
   "id": "0c7017cb-d673-49bb-93c2-fc8f5204ff14",
   "metadata": {},
   "source": [
    "<div style=\"background: #DFF0D8; border-radius: 3px; padding: 10px;\">\n",
    "\n",
    "**Exercise:** How many sessions? How many sessions per mouse? \n",
    "</div>"
   ]
  },
  {
   "cell_type": "code",
   "execution_count": 7,
   "id": "c275ed8a-7dc0-4b31-b213-616c5b1c4f14",
   "metadata": {
    "tags": []
   },
   "outputs": [
    {
     "data": {
      "text/plain": [
       "100"
      ]
     },
     "execution_count": 7,
     "metadata": {},
     "output_type": "execute_result"
    }
   ],
   "source": [
    "len(metadata.name.unique())"
   ]
  },
  {
   "cell_type": "code",
   "execution_count": 8,
   "id": "0c7e48d6-5f64-4a5c-98b5-9c6ddec2aa51",
   "metadata": {
    "tags": []
   },
   "outputs": [
    {
     "data": {
      "text/plain": [
       "subject_id\n",
       "416296    25\n",
       "427836    25\n",
       "438833    25\n",
       "409828    25\n",
       "Name: count, dtype: int64"
      ]
     },
     "execution_count": 8,
     "metadata": {},
     "output_type": "execute_result"
    }
   ],
   "source": [
    "metadata['subject_id'].value_counts()"
   ]
  },
  {
   "cell_type": "markdown",
   "id": "1558d376-6b8f-49e5-ae9e-dc4e8f897eef",
   "metadata": {},
   "source": [
    "<div style=\"background: #DFF0D8; border-radius: 3px; padding: 10px;\">\n",
    "\n",
    "**Exercise:** What transgenic lines were used in this dataset? \n",
    "    \n",
    "What cell types do these transgenic lines target? Refer to the [Data Book](https://allenswdb.github.io/background/transgenic-tools.html) for this. \n",
    "</div>"
   ]
  },
  {
   "cell_type": "code",
   "execution_count": 12,
   "id": "091c81e0-2298-4ef4-977a-e9e3bd78fb5e",
   "metadata": {
    "tags": []
   },
   "outputs": [
    {
     "data": {
      "text/plain": [
       "array(['Camk2a-tTA/wt;tetO-GCaMP6s/wt',\n",
       "       'Slc17a7-IRES2-Cre/wt;Camk2a-tTA/wt;Ai94(TITL-GCaMP6s)/wt'],\n",
       "      dtype=object)"
      ]
     },
     "execution_count": 12,
     "metadata": {},
     "output_type": "execute_result"
    }
   ],
   "source": [
    "metadata.genotype.unique()"
   ]
  },
  {
   "cell_type": "code",
   "execution_count": 31,
   "id": "640a8db9-e4c3-40b0-bb61-c7f560f9b929",
   "metadata": {
    "tags": []
   },
   "outputs": [
    {
     "name": "stdout",
     "output_type": "stream",
     "text": [
      "Found filepath: /data/416296_V1DD/416296_2018-11-29_12-08-40_nwb_2025-08-08_16-27-42/416296_2018-11-29_12-08-40_nwb_2025-08-08_16-27-42.nwb.zarr\n"
     ]
    }
   ],
   "source": [
    "# Load session data \n",
    "\n",
    "# Get the asset name \n",
    "session_name = metadata['name'].iloc[0]\n",
    "\n",
    "# Find the filepath \n",
    "data_dir = os.path.join(r'/data/416296_V1DD/', session_name)\n",
    "nwb_path_zarr = list(Path(data_dir).glob(\"*.nwb.zarr\"))[0]\n",
    "\n",
    "print('Found filepath:', nwb_path_zarr) "
   ]
  },
  {
   "cell_type": "code",
   "execution_count": 32,
   "id": "41284ee2-2609-4787-a22d-237f6b99cd14",
   "metadata": {
    "tags": []
   },
   "outputs": [
    {
     "name": "stderr",
     "output_type": "stream",
     "text": [
      "/opt/conda/lib/python3.10/site-packages/hdmf/spec/namespace.py:535: UserWarning: Ignoring cached namespace 'core' version 2.9.0 because version 2.8.0 is already loaded.\n",
      "  warn(\"Ignoring cached namespace '%s' version %s because version %s is already loaded.\"\n"
     ]
    }
   ],
   "source": [
    "io = NWBZarrIO(nwb_path_zarr, mode = 'r') \n",
    "nwbfile_zarr = io.read()"
   ]
  },
  {
   "cell_type": "code",
   "execution_count": 33,
   "id": "4c81eaad-f903-4b3c-b347-d6d146bc524c",
   "metadata": {
    "tags": []
   },
   "outputs": [
    {
     "data": {
      "application/vnd.jupyter.widget-view+json": {
       "model_id": "3ad2f8dad62145eebd18f525948a2339",
       "version_major": 2,
       "version_minor": 0
      },
      "text/plain": [
       "VBox(children=(HBox(children=(Label(value='session_description:', layout=Layout(max_height='40px', max_width='…"
      ]
     },
     "execution_count": 33,
     "metadata": {},
     "output_type": "execute_result"
    }
   ],
   "source": [
    "nwb2widget(nwbfile_zarr)"
   ]
  },
  {
   "cell_type": "markdown",
   "id": "5ed84d7d-0cf2-4513-b651-f3a99fc2623d",
   "metadata": {
    "tags": []
   },
   "source": [
    "<div style=\"background: #DFF0D8; border-radius: 3px; padding: 10px;\">\n",
    "\n",
    "**Exercise**: What units/neurons are available? How many neurons were recorded in this session? Has the data been pre-filtered based on quality control metrics? "
   ]
  },
  {
   "cell_type": "code",
   "execution_count": 108,
   "id": "50e4e2b2-4f3d-4318-acae-4117d9197384",
   "metadata": {
    "tags": []
   },
   "outputs": [],
   "source": [
    "# Look at all extracted ROIs \n",
    "image_segmentation_plane0 = nwbfile_zarr.processing['plane-0'].data_interfaces['image_segmentation'].plane_segmentations['roi_table'].to_dataframe()\n",
    "image_segmentation_plane1 = nwbfile_zarr.processing['plane-1'].data_interfaces['image_segmentation'].plane_segmentations['roi_table'].to_dataframe()\n",
    "image_segmentation_plane2 = nwbfile_zarr.processing['plane-2'].data_interfaces['image_segmentation'].plane_segmentations['roi_table'].to_dataframe()\n",
    "image_segmentation_plane3 = nwbfile_zarr.processing['plane-3'].data_interfaces['image_segmentation'].plane_segmentations['roi_table'].to_dataframe()\n",
    "image_segmentation_plane4 = nwbfile_zarr.processing['plane-4'].data_interfaces['image_segmentation'].plane_segmentations['roi_table'].to_dataframe()\n",
    "image_segmentation_plane5 = nwbfile_zarr.processing['plane-5'].data_interfaces['image_segmentation'].plane_segmentations['roi_table'].to_dataframe()"
   ]
  },
  {
   "cell_type": "code",
   "execution_count": 109,
   "id": "937e0ba4-e9fa-4efd-94ec-37fc0680f60a",
   "metadata": {
    "tags": []
   },
   "outputs": [
    {
     "data": {
      "text/plain": [
       "array([ True, False])"
      ]
     },
     "execution_count": 109,
     "metadata": {},
     "output_type": "execute_result"
    }
   ],
   "source": [
    "# Are all neurons available or is it pre-filtered? \n",
    "image_segmentation_plane0.is_soma.unique()"
   ]
  },
  {
   "cell_type": "code",
   "execution_count": 113,
   "id": "986aec4a-f7c3-47e6-bdd3-a0a89456b094",
   "metadata": {
    "tags": []
   },
   "outputs": [
    {
     "name": "stdout",
     "output_type": "stream",
     "text": [
      "535\n"
     ]
    }
   ],
   "source": [
    "# Calculate total valid neurons (somas) across imaging planes \n",
    "\n",
    "print(len(image_segmentation_plane0[image_segmentation_plane0.is_soma == True]) + \n",
    "    len(image_segmentation_plane1[image_segmentation_plane1.is_soma == True]) + \n",
    "    len(image_segmentation_plane2[image_segmentation_plane2.is_soma == True]) + \n",
    "    len(image_segmentation_plane3[image_segmentation_plane3.is_soma == True]) + \n",
    "    len(image_segmentation_plane4[image_segmentation_plane4.is_soma == True]) + \n",
    "    len(image_segmentation_plane5[image_segmentation_plane5.is_soma == True]))"
   ]
  },
  {
   "cell_type": "markdown",
   "id": "ff806faa-1be3-4f4c-a0fa-6fc807ead5f3",
   "metadata": {},
   "source": [
    "<div style=\"background: #DFF0D8; border-radius: 3px; padding: 10px;\">\n",
    "\n",
    "**Exercise**: What stimuli, behaviors, and conditions were applied or recorded in this experiment? "
   ]
  },
  {
   "cell_type": "code",
   "execution_count": 85,
   "id": "452d5495-d846-4ed3-8876-593f7fcba622",
   "metadata": {
    "tags": []
   },
   "outputs": [
    {
     "data": {
      "text/plain": [
       "array(['drifting_gratings_full', 'drifting_gratings_windowed',\n",
       "       'locally_sparse_noise', 'spontaneous', 'natural_images_12',\n",
       "       'natural_movie', 'natural_images'], dtype=object)"
      ]
     },
     "execution_count": 85,
     "metadata": {},
     "output_type": "execute_result"
    }
   ],
   "source": [
    "epochs = nwbfile_zarr.intervals['epochs'].to_dataframe()\n",
    "epochs.stim_name.unique()"
   ]
  },
  {
   "cell_type": "code",
   "execution_count": 83,
   "id": "738b0566-6b28-4579-b90b-fbbee8d10320",
   "metadata": {
    "tags": []
   },
   "outputs": [
    {
     "data": {
      "text/plain": [
       "{'running_speed': running_speed pynwb.base.TimeSeries at 0x139917829182640\n",
       " Fields:\n",
       "   comments: no comments\n",
       "   conversion: 1.0\n",
       "   data: <zarr.core.Array '/processing/behavior/running_speed/data' (209040,) float32 read-only>\n",
       "   description: Running speed of animal on wheel\n",
       "   interval: 1\n",
       "   offset: 0.0\n",
       "   resolution: -1.0\n",
       "   timestamps: <zarr.core.Array '/processing/behavior/running_speed/timestamps' (209040,) float64 read-only>\n",
       "   timestamps_unit: seconds\n",
       "   unit: cm/s,\n",
       " 'corneal_reflection': corneal_reflection hdmf.common.table.DynamicTable at 0x139917829184752\n",
       " Fields:\n",
       "   colnames: ['timestamps' 'ellipse_long_axis' 'ellipse_short_axis' 'area']\n",
       "   columns: (\n",
       "     timestamps <class 'hdmf.common.table.VectorData'>,\n",
       "     ellipse_long_axis <class 'hdmf.common.table.VectorData'>,\n",
       "     ellipse_short_axis <class 'hdmf.common.table.VectorData'>,\n",
       "     area <class 'hdmf.common.table.VectorData'>\n",
       "   )\n",
       "   description: DLC corneal tracking data\n",
       "   id: id <class 'hdmf.common.table.ElementIdentifiers'>,\n",
       " 'pupil': pupil hdmf.common.table.DynamicTable at 0x139917829188544\n",
       " Fields:\n",
       "   colnames: ['timestamps' 'ellipse_long_axis' 'ellipse_short_axis' 'area']\n",
       "   columns: (\n",
       "     timestamps <class 'hdmf.common.table.VectorData'>,\n",
       "     ellipse_long_axis <class 'hdmf.common.table.VectorData'>,\n",
       "     ellipse_short_axis <class 'hdmf.common.table.VectorData'>,\n",
       "     area <class 'hdmf.common.table.VectorData'>\n",
       "   )\n",
       "   description: DLC pupil tracking data\n",
       "   id: id <class 'hdmf.common.table.ElementIdentifiers'>}"
      ]
     },
     "execution_count": 83,
     "metadata": {},
     "output_type": "execute_result"
    }
   ],
   "source": [
    "nwbfile_zarr.processing['behavior'].data_interfaces"
   ]
  },
  {
   "cell_type": "markdown",
   "id": "eca99556-6135-45a3-b928-fe521dc301b9",
   "metadata": {
    "tags": []
   },
   "source": [
    "<div style=\"background: #DFF0D8; border-radius: 3px; padding: 10px;\">\n",
    "\n",
    "**Exercise**: How long is a session? "
   ]
  },
  {
   "cell_type": "code",
   "execution_count": 137,
   "id": "e609c0e7-45d4-4fe9-aec9-9a09136b74db",
   "metadata": {
    "tags": []
   },
   "outputs": [
    {
     "data": {
      "text/plain": [
       "np.float64(58.04888973236084)"
      ]
     },
     "execution_count": 137,
     "metadata": {},
     "output_type": "execute_result"
    }
   ],
   "source": [
    "(epochs['stop_time'].iloc[10]-epochs['start_time'].iloc[0])/60"
   ]
  },
  {
   "cell_type": "markdown",
   "id": "4f36159c-b894-4546-88f4-7e2fb28a4b5b",
   "metadata": {},
   "source": [
    "<div style=\"background: #DFF0D8; border-radius: 3px; padding: 10px;\">\n",
    "\n",
    "**Exercise**: What is the sampling rate? "
   ]
  },
  {
   "cell_type": "markdown",
   "id": "905b39ef-f351-4d4e-91ba-ec094ee72811",
   "metadata": {},
   "source": [
    "see data book: https://allenswdb.github.io/physiology/ophys/V1DD/V1DD-overview.html\n",
    "\n",
    "6Hz/plane"
   ]
  },
  {
   "cell_type": "markdown",
   "id": "3354b1d8-835f-4a97-9106-da946d8c6da2",
   "metadata": {},
   "source": [
    "<div style=\"background: #DFF0D8; border-radius: 3px; padding: 10px;\">\n",
    "\n",
    "**Exercise**: Did the mice receive behavior training before recording sessions? Are the recording sessions longitudinal? "
   ]
  },
  {
   "cell_type": "markdown",
   "id": "5459bed6-e32a-4c0a-9642-aa9b4ac87162",
   "metadata": {
    "tags": []
   },
   "source": [
    "Looking at data names, mice were recorded for several days. Same area presumably? Question for data book "
   ]
  }
 ],
 "metadata": {
  "kernelspec": {
   "display_name": "Python 3 (ipykernel)",
   "language": "python",
   "name": "python3"
  },
  "language_info": {
   "codemirror_mode": {
    "name": "ipython",
    "version": 3
   },
   "file_extension": ".py",
   "mimetype": "text/x-python",
   "name": "python",
   "nbconvert_exporter": "python",
   "pygments_lexer": "ipython3",
   "version": "3.10.12"
  }
 },
 "nbformat": 4,
 "nbformat_minor": 5
}
