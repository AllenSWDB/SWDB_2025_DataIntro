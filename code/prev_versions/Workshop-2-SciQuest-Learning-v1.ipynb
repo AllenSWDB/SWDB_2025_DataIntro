{
 "cells": [
  {
   "cell_type": "markdown",
   "id": "fdb0865a",
   "metadata": {},
   "source": [
    "![cropped-SummerWorkshop_Header.png](attachment:02a8fa98-5280-4e58-972b-b49e606371b3.png)"
   ]
  },
  {
   "cell_type": "markdown",
   "id": "a3234d52-9aff-403b-8077-4ad5535661b8",
   "metadata": {
    "tags": []
   },
   "source": [
    "<h1 align=\"center\">Day 1 Workshop 2: Science Quest</h1>  \n",
    "<h2 align=\"center\"> How do neuron interactions change after learning? </h4>   \n",
    "<h2 align=\"center\"> SWDB 2025</h2> "
   ]
  },
  {
   "cell_type": "markdown",
   "id": "ac3ea999",
   "metadata": {},
   "source": [
    "<div style=\"border-left: 3px solid #000; padding: 1px; padding-left: 10px; background: #F0FAFF; \">\n",
    "    \n",
    "<h2>Goal</h2>\n",
    "    \n",
    "In this workshop, we will use our data access skills and dataset knowledge to ask a specific question: \n",
    "\n",
    "<b>How do neuron interactions change after learning?</b>\n",
    "   \n",
    "</div>"
   ]
  },
  {
   "cell_type": "markdown",
   "id": "b146bb2b-bc93-4563-bc94-d4a8058e79b2",
   "metadata": {},
   "source": [
    "<div style=\"border-left: 3px solid #000; padding: 1px; padding-left: 10px; background: #F0FAFF; \">\n",
    "    \n",
    "How should we go about addressing this question? \n",
    "    \n",
    "#### <b> Step 1: </b>Which datasets have we learned about that would be useful to analyze to address this question? \n",
    "    \n",
    "We will want a dataset with a behavior task where the mouse has to learn something, and we will want there to be a period of time before and after learning that we can use to compare activity to see if it changes. \n",
    "    \n",
    "Check our dataset supertable and find a dataset with a behavior task and a spontaneous activity period pre and post task learning. \n",
    "    \n",
    "We can use... the BCI learning dataset! \n",
    "    \n",
    "<b>Why use this dataset?</b> In this dataset, mice learn to control the activity of a specific neuron in order to receive rewards. The activity of the conditioned neuron is read out in real time and is linked to the movement of a reward spot. Over a few trials, the activity of the conditioned neuron becomes coupled to the movement of the spout and the mouse \"learns\" to activate that neuron to move the spout towards then to get rewards. In contrast to other behavior tasks, this task enables us to study how learning of a single neuron can affect other cells in the network. See below for additional details of this dataset. \n",
    "    \n",
    "#### <b> Step 2: </b>What analysis method can we use to address this question? \n",
    "    \n",
    "One simple way to see if neurons could be interacting is to quantify how correlated their activity patterns are. If neurons are consistently co-active, they are likely to be connected or receive shared input as part of an interacting circuit. \n",
    "        \n",
    "</div>"
   ]
  },
  {
   "cell_type": "markdown",
   "id": "b9e9d186-6c42-4778-8bd7-3df25d357e26",
   "metadata": {},
   "source": [
    "<div style=\"border-left: 3px solid #000; padding: 1px; padding-left: 10px; background: #F0FAFF; \">\n",
    "\n",
    "#### Let's use our new data access skills to load the BCI data and compare neuron activity correlations during the spotaneous periods before and after a mouse learns the BCI task!\n",
    "\n",
    "</div>"
   ]
  },
  {
   "cell_type": "markdown",
   "id": "b7635cf0",
   "metadata": {},
   "source": [
    "<div style=\"border-left: 3px solid #000; padding: 1px; padding-left: 10px; background: #F0FAFF; \">\n",
    "\n",
    "<h2>Outline:</h2>\n",
    "    \n",
    "<h4>Part 1: Accessing the BCI data</h4> \n",
    "    - Metadata table & pynwb\n",
    "\n",
    "    \n",
    "<h4>Part 2: What are the conditions in this dataset? </h4>\n",
    "    - Intervals, Epochs and Trials\n",
    "\n",
    "<h4>Part 3: Quantifying activity correlations before and after BCI learning</h4>\n",
    "    - Cell activity traces, selecting time periods of interest, computing correlations\n",
    "\n",
    "<h4>Part 4: Do correlations depend on distance between neurons?</h4>\n",
    "    - Segmented ROI masks and spatial relationships\n",
    "<h4>   </h4>\n",
    "</div>"
   ]
  },
  {
   "cell_type": "markdown",
   "id": "07149c9d-e681-484b-bcb6-1cb5dee64edd",
   "metadata": {},
   "source": [
    "<div style=\"border-left: 3px solid #000; padding: 1px; padding-left: 10px; background: #F0FAFF; \">\n",
    "<h2>BCI dataset overview </h2> \n",
    "    \n",
    "**Overview:** In this notebook, we will analyze neural activity and connectivity changes \n",
    "during learning using a dataset from the [Credit Assignment During Learning](https://www.allenneuraldynamics.org/projects/credit-assignment-during-learning) \n",
    "project at the Allen Institute for Neural Dynamics. This dataset provides a unique window \n",
    "into how cortical circuits adapt as mice learn to volitionally control a brain-computer interface (BCI) \n",
    "using single neurons in motor cortex. This tutorial focuses on population activity and event-aligned responses\n",
    "in one experimental paradigm, multi-day learning, longitudinal connectivity mapping, \n",
    "and causal perturbations across many animals.\n",
    " \n",
    "**Dataset:** \n",
    "Neural activity was recorded from layer 2/3 excitatory neurons in the primary motor cortex \n",
    "of head-fixed mice using two-photon calcium imaging. Imaging was performed over multiple days\n",
    " as each animal learned and performed a BCI task. Each day, a new conditioned neuron (CN) was selected, \n",
    " the activity of this neuron was mapped in real-time to the position of a motorized reward port. \n",
    " To receive water rewards, mice had to learn to increase the activity of the CN to move the port into reach.\n",
    "The dataset also includes simultaneous photostimulation and calcium imaging sessions, in which individual or \n",
    "groups of neurons were optogenetically stimulated to assess their causal influence on the surrounding network. \n",
    "These connection mapping sessions were repeated daily to measure how connectivity changed as learning progressed.\n",
    " Imaging data were preprocessed using Suite2p and include motion-corrected fluorescence traces, \n",
    " extracted ROIs, inferred spiking events, and stimulus-aligned behavioral metadata. \n",
    " All data are registered across days to track the same neurons longitudinally.\n",
    "\n",
    " **Experiment:**\n",
    " This experiment was designed to test competing models of learning rules—such as Hebbian learning, \n",
    " long-range input modulation, and biologically plausible approximations of error backpropagation—by \n",
    " directly measuring changes in neural activity and inferred connectivity during learning. \n",
    " The core task involved a closed-loop BCI paradigm in which a single neuron’s activity controlled \n",
    " a reward mechanism. Because the mapping from activity to behavior was fully defined by the experimenter,\n",
    "  this paradigm enables ground-truth labeling of neurons as behaviorally causal (e.g., the CN) versus merely correlated.\n",
    "To probe learning-related circuit changes, cellular-resolution two-photon photostimulation\n",
    " was used to perturb neurons before and after learning. By analyzing evoked responses, \n",
    " researchers could infer the presence and strength of functional connections. \n",
    " Learning-induced changes in connectivity were then compared to predictions \n",
    " from recurrent neural network models trained with different plasticity rules, \n",
    " enabling discrimination between competing learning algorithms.\n",
    "\n"
   ]
  },
  {
   "cell_type": "markdown",
   "id": "f58c63ce-83ab-466f-8ab0-1f41411aad80",
   "metadata": {},
   "source": [
    "<div style=\"border-left: 3px solid #000; padding: 1px; padding-left: 10px; background: #F0FAFF; \">\n",
    "\n",
    "#### Import packages and load data"
   ]
  },
  {
   "cell_type": "code",
   "execution_count": null,
   "id": "5d8dc594-cbae-4e3e-8b45-a826d7be7417",
   "metadata": {
    "tags": []
   },
   "outputs": [],
   "source": [
    "# General imports \n",
    "import os \n",
    "import re\n",
    "import numpy as np\n",
    "import pandas as pd\n",
    "from pathlib import Path\n",
    "import scipy.stats as stats \n",
    "from skimage import measure\n",
    "import matplotlib.pyplot as plt\n",
    "\n",
    "# Pynwb imports\n",
    "from hdmf_zarr import NWBZarrIO\n",
    "from nwbwidgets import nwb2widget"
   ]
  },
  {
   "cell_type": "markdown",
   "id": "abd7df16-dfcd-4783-bb4d-910c4dd37ab1",
   "metadata": {
    "tags": []
   },
   "source": [
    "<div style=\"border-left: 3px solid #000; padding: 1px; padding-left: 10px; background: #F0FAFF; \">\n",
    "<h2>Part 1: Accessing the BCI data</h2>   "
   ]
  },
  {
   "cell_type": "markdown",
   "id": "a2ab7c1a-ce38-4e8e-9aa8-061bbad66fa9",
   "metadata": {},
   "source": [
    "<div style=\"border-left: 3px solid #000; padding: 1px; padding-left: 10px; background: #F0FAFF; \">\n",
    "\n",
    "#### Metadata\n",
    "\n",
    "The 'metadata.csv' in the '/data' folder contains relevant information about the experimental session and the subject. "
   ]
  },
  {
   "cell_type": "markdown",
   "id": "da6a418b-5457-46f7-b8de-ac7de68bd9be",
   "metadata": {},
   "source": [
    "| Column    | Description |\n",
    "| -------- | ------- |\n",
    "| id | data asset id |\n",
    "| name | filename of data asset (raw) |\n",
    "| subject_id| numerical id for animal subject  |\n",
    "| session_time |  experiment date (%Y-%m-%d %H:%M:%S)   |\n",
    "| session_type   |  experiment identifier  |\n",
    "| genotype  | subject genotype   |\n",
    "| virus   | injected virus type  |\n",
    "| ophys_fov   | field of view identifier  |\n",
    "| session_number    | behavior training session number   |"
   ]
  },
  {
   "cell_type": "markdown",
   "id": "b19215ef-a80b-4d76-b3bb-62060ee12aca",
   "metadata": {},
   "source": [
    "<div style=\"background: #DFF0D8; border-radius: 3px; padding: 10px;\">\n",
    "\n",
    "**Exercise:** Load the metadata csv file as a pandas dataframe. What are the column values? \n",
    "\n",
    "</div>"
   ]
  },
  {
   "cell_type": "code",
   "execution_count": null,
   "id": "cdd0820d-aa2f-4857-910b-846a029377e3",
   "metadata": {},
   "outputs": [],
   "source": []
  },
  {
   "cell_type": "markdown",
   "id": "314a6049-ef74-4963-8814-0dfdbd4d9eaf",
   "metadata": {
    "tags": []
   },
   "source": [
    "<div style=\"background: #DFF0D8; border-radius: 3px; padding: 10px;\">\n",
    "\n",
    "What are the unique values for `genotype`? What aspects of the genotype might be useful for this experiment?\n",
    "\n",
    "</div>"
   ]
  },
  {
   "cell_type": "code",
   "execution_count": null,
   "id": "41447a88-b94a-4669-b43d-d5aa41715801",
   "metadata": {
    "tags": []
   },
   "outputs": [],
   "source": []
  },
  {
   "cell_type": "markdown",
   "id": "3d28cb4c-bab0-4a8b-870d-69027787a2ad",
   "metadata": {},
   "source": [
    "<div style=\"background: #DFF0D8; border-radius: 3px; padding: 10px;\">\n",
    "\n",
    "Sort the dataframe by `subject_id` and `session_time` to group experiments from the same mice and put them in chronological order. \n",
    "    \n",
    "Hint: Make sure to reset the index after sorting the dataframe.\n",
    "\n",
    "</div>"
   ]
  },
  {
   "cell_type": "code",
   "execution_count": null,
   "id": "02a7307f-c5b8-440b-b741-e072287a6d3a",
   "metadata": {
    "tags": []
   },
   "outputs": [],
   "source": []
  },
  {
   "cell_type": "markdown",
   "id": "a073c0de",
   "metadata": {},
   "source": [
    "<div style=\"border-left: 3px solid #000; padding: 1px; padding-left: 10px; background: #F0FAFF; \">\n",
    "\n",
    "Let's select a mouse and session to look at\n"
   ]
  },
  {
   "cell_type": "code",
   "execution_count": null,
   "id": "634c0c54-c403-4853-b457-827d00d1733e",
   "metadata": {
    "tags": []
   },
   "outputs": [],
   "source": [
    "# Pick the first mouse\n",
    "subject_id = metadata['subject_id'].unique()[0]\n",
    "# Save just the year, month, and date for the 3rd session from this mouse\n",
    "date = metadata[metadata['subject_id']==subject_id].session_time[3][0:10] \n",
    "print('mouse_id:',subject_id, 'date:', date)"
   ]
  },
  {
   "cell_type": "markdown",
   "id": "0b1a3dcc",
   "metadata": {},
   "source": [
    "<div style=\"background: #DFF0D8; border-radius: 3px; padding: 10px;\">\n",
    "\n",
    "**Exercise:** Load the NWB file for this session using pynwb and examine its contents\n",
    "    \n",
    "Hint: Use `NWBZarrIO`\n",
    "\n",
    "</div>"
   ]
  },
  {
   "cell_type": "code",
   "execution_count": null,
   "id": "4c8cea59",
   "metadata": {
    "tags": []
   },
   "outputs": [],
   "source": [
    "# First go through all the datasets in this capsule and find the folder that has our mouse's subject_id in the folder name\n",
    "data_folder = [folder for folder in os.listdir(r'/data/') if str(subject_id) in folder and str(date) in folder][0]\n",
    "\n",
    "# Set the directory to load the file\n",
    "data_dir = os.path.join(r'/data/', data_folder)\n",
    "\n",
    "# Now find the NWB file and set the path to load it\n",
    "nwb_file = [file for file in os.listdir(data_dir) if 'nwb' in file][0]\n",
    "nwb_path = os.path.join(data_dir, nwb_file)"
   ]
  },
  {
   "cell_type": "code",
   "execution_count": null,
   "id": "b3c7d9d0",
   "metadata": {
    "tags": []
   },
   "outputs": [],
   "source": []
  },
  {
   "cell_type": "markdown",
   "id": "a124451f-967d-4470-8a38-dfd895353390",
   "metadata": {},
   "source": [
    "<div style=\"border-left: 3px solid #000; padding: 1px; padding-left: 10px; background: #F0FAFF; \">\n",
    "\n",
    "#### NWB files\n",
    "\n",
    "As you'll recall from workshop 1, NWB files are a standardized file format for systems neuroscience experiments. They are formatted similarly to hdf5 containers, with data stored using using a directory format. There are \"containers\" (i.e. directories) for each type of data.  \n",
    "\n",
    "The key types of data in an NWB file are: \n",
    "* metadata (subject information, recording methodology, devices used, etc.)\n",
    "* events (stimulus tables, discrete task epochs, etc.)\n",
    "* processed data (cell traces, segmented ROI masks, etc.)\n",
    "    \n",
    "The data in each container are typically provided as dynamic tables or as matrices. \n"
   ]
  },
  {
   "cell_type": "code",
   "execution_count": null,
   "id": "57866293-320c-49fc-adc9-05e1454a4469",
   "metadata": {
    "tags": []
   },
   "outputs": [],
   "source": [
    "nwbfile"
   ]
  },
  {
   "cell_type": "markdown",
   "id": "823a8203-f521-4914-87b3-20c374c50970",
   "metadata": {},
   "source": [
    "<div style=\"border-left: 3px solid #000; padding: 1px; padding-left: 10px; background: #F0FAFF; \">\n",
    "\n",
    "`nwb2widget` creates an interactive widget to easily explore the hierarchical contents of the NWB file. The widget can also render interactive data plots (e.g. calcium activity traces, image segmentation masks). "
   ]
  },
  {
   "cell_type": "code",
   "execution_count": null,
   "id": "d422c232-72ac-4c2d-9422-8c3b16aba561",
   "metadata": {
    "tags": []
   },
   "outputs": [],
   "source": [
    "nwb2widget(nwbfile) \n"
   ]
  },
  {
   "cell_type": "markdown",
   "id": "ad4ff74d-0969-4bf3-b200-ee73818afb40",
   "metadata": {
    "tags": []
   },
   "source": [
    "<div style=\"border-left: 3px solid #000; padding: 1px; padding-left: 10px; background: #F0FAFF; \">\n",
    "\n",
    "Containers are accessed via dot (.) notation. If the data within the container are strings, they can also be accesed with dot notation. Like this: "
   ]
  },
  {
   "cell_type": "code",
   "execution_count": null,
   "id": "ff49084d-92f7-4f5d-8408-dc2e9f4d4852",
   "metadata": {
    "tags": []
   },
   "outputs": [],
   "source": [
    "nwbfile.subject.genotype"
   ]
  },
  {
   "cell_type": "markdown",
   "id": "a3ea2a9e-f630-474a-8c47-b6b4cac4baa3",
   "metadata": {
    "tags": []
   },
   "source": [
    "<div style=\"border-left: 3px solid #000; padding: 1px; padding-left: 10px; background: #F0FAFF; \">\n",
    "\n",
    "If the data within a container is an object (another container, tables, or matrices), it can be accessed like items in a dictionary. Like this: \n"
   ]
  },
  {
   "cell_type": "code",
   "execution_count": null,
   "id": "e7103607-6189-4c1c-abe4-670e46434fb3",
   "metadata": {
    "tags": []
   },
   "outputs": [],
   "source": [
    "nwbfile.devices['442_Bergamo_2p_photostim']"
   ]
  },
  {
   "cell_type": "markdown",
   "id": "5d20c891-fa7a-4e4d-b75f-1df85d0d1cab",
   "metadata": {
    "tags": []
   },
   "source": [
    "<div style=\"border-left: 3px solid #000; padding: 1px; padding-left: 10px; background: #F0FAFF; \">\n",
    "<h2>Part 2: What are the conditions in this dataset? </h2>"
   ]
  },
  {
   "cell_type": "markdown",
   "id": "fbf59459-4d4f-42aa-833f-f9248c38a539",
   "metadata": {
    "tags": []
   },
   "source": [
    "<div style=\"border-left: 3px solid #000; padding: 1px; padding-left: 10px; background: #F0FAFF; \">\n",
    "\n",
    "#### Epoch Table \n",
    "    \n",
    "The epochs table contains the start and stop times/frames for each experimental epoch. This tells you what types of conditions there are in the experiment.\n"
   ]
  },
  {
   "cell_type": "markdown",
   "id": "ad1d6bad",
   "metadata": {},
   "source": [
    "<div style=\"background: #DFF0D8; border-radius: 3px; padding: 10px;\">\n",
    "\n",
    "**Exercise:** Load the `epochs` table from the *<b>intervals</b>* container of the NWB file. What epochs are present?\n",
    "    \n",
    "Hint: Make sure to turn the data into a dataframe to view it.\n",
    "\n",
    "</div>"
   ]
  },
  {
   "cell_type": "code",
   "execution_count": null,
   "id": "c2d8f132",
   "metadata": {
    "tags": []
   },
   "outputs": [],
   "source": []
  },
  {
   "cell_type": "markdown",
   "id": "2d18d66e-00b8-4bfa-a435-f66aca62e0ff",
   "metadata": {
    "tags": []
   },
   "source": [
    "<div style=\"background: #DFF0D8; border-radius: 3px; padding: 10px;\">\n",
    "\n",
    "**Exercise:** Load the `dff_traces` from the *<b>processing</b>* container of the NWB file. What are the rows and columns? \n",
    "    \n",
    "</div>"
   ]
  },
  {
   "cell_type": "code",
   "execution_count": null,
   "id": "e2afce24-f8ad-4db7-bf22-1bd89c58c123",
   "metadata": {
    "tags": []
   },
   "outputs": [],
   "source": []
  },
  {
   "cell_type": "markdown",
   "id": "c122501b-8e37-4e86-9d47-8ca553d2c2e0",
   "metadata": {
    "tags": []
   },
   "source": [
    "<div style=\"background: #DFF0D8; border-radius: 3px; padding: 10px;\">\n",
    "\n",
    "Plot the dFF trace for ROI = 100 with the stimulus epochs overlaid in color. Does it's activity change across epochs?\n",
    "    \n",
    "</div>"
   ]
  },
  {
   "cell_type": "code",
   "execution_count": null,
   "id": "833995de-dcaf-4fc0-9d2c-d965bb544165",
   "metadata": {
    "tags": []
   },
   "outputs": [],
   "source": [
    "# Pick an ROI\n",
    "ROI = 100\n",
    "\n",
    "# Plot dff trace for selected ROI \n",
    "plt.rcParams[\"figure.figsize\"] = (10, 4)\n",
    "plt.plot(dff_traces[:, ROI], label=f'ROI {ROI}', color='black')\n",
    "\n",
    "# Add shaded regions for stimulus epochs \n",
    "\n",
    "stimulus_names = epoch_table.stimulus_name.unique()\n",
    "\n",
    "import matplotlib.cm as cm\n",
    "colors = cm.get_cmap('Paired')\n",
    "colors = colors(np.linspace(0, 1, len(stimulus_names)))\n",
    "\n",
    "                \n",
    "for c, stimulus_name in enumerate(stimulus_names):\n",
    "    stim_epoch = epoch_table[epoch_table.stimulus_name==stimulus_name]\n",
    "    for j in range(len(stim_epoch)):\n",
    "        plt.axvspan(xmin=stim_epoch.start_frame.iloc[j], xmax=stim_epoch.stop_frame.iloc[j], color=colors[c], alpha=0.3, label=stimulus_name)\n",
    "\n",
    "plt.ylabel('dF/F')\n",
    "plt.xlabel('2P Frame')\n",
    "plt.title('Stimulus epochs and dF/F for ROI '+str(ROI))\n",
    "plt.legend(bbox_to_anchor=(1.0, 1.0))\n",
    "plt.show()"
   ]
  },
  {
   "cell_type": "code",
   "execution_count": null,
   "id": "48364c70-f5a9-468c-bee8-336b73c74a07",
   "metadata": {},
   "outputs": [],
   "source": []
  },
  {
   "cell_type": "markdown",
   "id": "109c2911-1374-481d-a2e1-edabafcd18f9",
   "metadata": {
    "tags": []
   },
   "source": [
    "<div style=\"border-left: 3px solid #000; padding: 1px; padding-left: 10px; background: #F0FAFF; \">\n",
    "\n",
    "### Stimulus and trials tables\n",
    " "
   ]
  },
  {
   "cell_type": "markdown",
   "id": "dce8085d-c759-4a09-8f15-18c8ada64415",
   "metadata": {},
   "source": [
    "<div style=\"background: #DFF0D8; border-radius: 3px; padding: 10px;\">\n",
    "\n",
    "**Exercise:** What types of stimulus tables are available? Check the keys of the *<b>stimulus</b>* container.\n",
    "    \n",
    "Does every epoch have a corresponding stimulus table? \n",
    "\n",
    "</div>"
   ]
  },
  {
   "cell_type": "code",
   "execution_count": null,
   "id": "5a8c15e4-7459-4957-80df-cccbd2b99ab6",
   "metadata": {
    "tags": []
   },
   "outputs": [],
   "source": []
  },
  {
   "cell_type": "markdown",
   "id": "2e6d58fa-8213-4cb0-bd3b-3aa074b938e4",
   "metadata": {
    "tags": []
   },
   "source": [
    "<div style=\"border-left: 3px solid #000; padding: 1px; padding-left: 10px; background: #F0FAFF; \">\n",
    "\n",
    "#### Stimulus table (2p optogenetic activation stimulus) \n",
    "    \n",
    "The stimulus table contains information about each 2p optogenetic stimulation trial. Optogenetic stimulation is used in this experiment to probe connectivity between neurons. In each trial, one neuron is stimulated, and all other neurons are recorded. Neurons with short latency responses after the optostim can be considered to be connected. "
   ]
  },
  {
   "cell_type": "markdown",
   "id": "2577558e",
   "metadata": {},
   "source": [
    "<div style=\"background: #DFF0D8; border-radius: 3px; padding: 10px;\">\n",
    "\n",
    "**Exercise:** What stimuli are delivered during the photostim epoch? \n",
    "    \n",
    "Load the `PhotostimTrials` table from the *<b>stimulus</b>* container and turn it into a dataframe, then check the columns. \n",
    "\n",
    "</div>"
   ]
  },
  {
   "cell_type": "code",
   "execution_count": null,
   "id": "f30a8931-759b-470b-b5bb-eb35ce80e9df",
   "metadata": {
    "tags": []
   },
   "outputs": [],
   "source": []
  },
  {
   "cell_type": "code",
   "execution_count": null,
   "id": "1f16f4ba-47db-4a6e-9705-75a130c4e5ee",
   "metadata": {
    "tags": []
   },
   "outputs": [],
   "source": []
  },
  {
   "cell_type": "markdown",
   "id": "57d3d000-41d3-4652-b3e9-8d8cd5b9efcf",
   "metadata": {
    "tags": []
   },
   "source": [
    "<div style=\"background: #DFF0D8; border-radius: 3px; padding: 10px;\">\n",
    "    \n",
    "What are the values of the `stimulus_name` column? \n",
    "\n",
    "</div>"
   ]
  },
  {
   "cell_type": "code",
   "execution_count": null,
   "id": "d6cd1284-6cbd-432d-a126-224166bec64b",
   "metadata": {
    "tags": []
   },
   "outputs": [],
   "source": []
  },
  {
   "cell_type": "markdown",
   "id": "a04ed5a5",
   "metadata": {},
   "source": [
    "<div style=\"border-left: 3px solid #000; padding: 1px; padding-left: 10px; background: #F0FAFF; \">\n",
    "\n",
    "There are two photostimulation epochs - one before and one after the BCI epoch."
   ]
  },
  {
   "cell_type": "markdown",
   "id": "c48d7e53-f9e5-4d13-8987-643e5cea9137",
   "metadata": {},
   "source": [
    "<div style=\"border-left: 3px solid #000; padding: 1px; padding-left: 10px; background: #F0FAFF; \">\n",
    "\n",
    "Here is what the columns mean:"
   ]
  },
  {
   "cell_type": "markdown",
   "id": "3ed8ea67-53a2-4fa7-a46c-fd8e9f13f799",
   "metadata": {},
   "source": [
    "| Column    | Description |\n",
    "| -------- | ------- |\n",
    "| start_time  | stimulus start (s)  |\n",
    "| stop_time | stimulus end (s)   |\n",
    "| start_frame | stimulus start (frame)     |\n",
    "| stop_frame    | stimulus end (frame)  |\n",
    "| tiff_file   | data source file name  |\n",
    "| stimulus_name    | stimulus name   |\n",
    "| laser_x    | x coordinate of stimulated neuron (pixel)   |\n",
    "| laser_y    | y coordinate of stimulated neuron (pixel)  |\n",
    "| power    | stimulus intensity (mW)  |\n",
    "| duration    | trial duration (s)  |\n",
    "| stimulus_function    | stimulus template   |\n",
    "| group_index    | identity of stimulated neuron(s)   |\n",
    "| closest_roi    | index in dff that corresponds to the photostimulated neuron   |\n"
   ]
  },
  {
   "cell_type": "markdown",
   "id": "fefb390b",
   "metadata": {},
   "source": [
    "<div style=\"border-left: 3px solid #000; padding: 1px; padding-left: 10px; background: #F0FAFF; \">\n",
    "\n",
    "#### BCI Behavior Table \n",
    "    \n",
    "The behavior trials table contains information about what the mouse did during each trial, such as whether it licked or got a reward, and when in the trial these events happened. It also includes the ID of the conditioned neuron. "
   ]
  },
  {
   "cell_type": "markdown",
   "id": "cf1cc459-cc6e-4b88-b177-03d5722602a7",
   "metadata": {
    "tags": []
   },
   "source": [
    "<div style=\"background: #DFF0D8; border-radius: 3px; padding: 10px;\">\n",
    "\n",
    "**Exercise:** What happens during the BCI task epoch? \n",
    "    \n",
    "Load the `Trials` table from the *<b>stimulus</b>* container, turn it into a dataframe, then check the columns. \n",
    "\n",
    "</div>"
   ]
  },
  {
   "cell_type": "code",
   "execution_count": null,
   "id": "335544fe-c236-40ac-8e22-ab84886fcd1f",
   "metadata": {
    "tags": []
   },
   "outputs": [],
   "source": []
  },
  {
   "cell_type": "code",
   "execution_count": null,
   "id": "57a04d86-8fa3-457f-b5f8-0875cee85e3a",
   "metadata": {
    "tags": []
   },
   "outputs": [],
   "source": []
  },
  {
   "cell_type": "markdown",
   "id": "bb105930-6580-4266-a93d-21f3080055ca",
   "metadata": {},
   "source": [
    "<div style=\"border-left: 3px solid #000; padding: 1px; padding-left: 10px; background: #F0FAFF; \">\n",
    "\n",
    "Here is what the columns mean:"
   ]
  },
  {
   "cell_type": "markdown",
   "id": "174dfa4b-577b-4bcf-afcd-e57f1671abdc",
   "metadata": {
    "tags": []
   },
   "source": [
    "| Column    | Description |\n",
    "| -------- | ------- |\n",
    "| start_time  | trial start (s)  |\n",
    "| stop_time | trial end (s)   |\n",
    "| go_cue |  time of go cue relative to start time (s)   |\n",
    "| hit   |  boolean of whether trial was hit   |\n",
    "| lick_l  | lick times (s)   |\n",
    "| reward_time   | reward delivery time (s)   |\n",
    "| threshold_crossing_times    | time when reward port crossed position threshold (s)   |\n",
    "| zaber_steps_times   | position of reward port  |\n",
    "| tiff_file    | data source file  |\n",
    "| start_frame    | trial start (frame)  |\n",
    "| stop_frame    | trial end (frame)  |\n",
    "| conditioned_neuron_x    | coordinate for conditioned neuron (pixels)  |\n",
    "| conditioned_neuron_y    | coordinate for conditioned neuron (pixels)  |\n",
    "| closest_roi    | index in dff that corresponds to the photostimulated neuron  |\n"
   ]
  },
  {
   "cell_type": "markdown",
   "id": "593fcf87-e877-4292-ad51-95e2f6ca2911",
   "metadata": {},
   "source": [
    "<div style=\"border-left: 3px solid #000; padding: 1px; padding-left: 10px; background: #F0FAFF; \">\n",
    "\n",
    "Could the learning that happens during the BCI task epoch change the activity of the other neurons in the imaging plane? "
   ]
  },
  {
   "cell_type": "markdown",
   "id": "c1f09ea3-989f-4649-877b-7c1e976d25b7",
   "metadata": {
    "tags": []
   },
   "source": [
    "<div style=\"border-left: 3px solid #000; padding: 1px; padding-left: 10px; background: #F0FAFF; \">\n",
    "<h2>Part 3: Quantifying activity correlations before and after BCI learning</h2>\n",
    "    - Cell activity traces, selecting time periods of interest, computing correlations\n",
    "</div>"
   ]
  },
  {
   "cell_type": "markdown",
   "id": "c3a08374-4b9e-4b1e-8325-1b28306b895e",
   "metadata": {},
   "source": [
    "<div style=\"border-left: 3px solid #000; padding: 1px; padding-left: 10px; background: #F0FAFF; \">\n",
    "\n",
    "We can quantify correlations during the spontaneous activity periods before and after BCI learning to see if neuronal interactions have changed as a result of learning. \n"
   ]
  },
  {
   "cell_type": "markdown",
   "id": "1190f879-1651-42e6-b7c5-b8fcfdb4b41d",
   "metadata": {
    "tags": []
   },
   "source": [
    "<div style=\"background: #DFF0D8; border-radius: 3px; padding: 10px;\">\n",
    "\n",
    "**Exercise:** Extract cell activity during spontaneous activity epochs. \n",
    "    \n",
    "First get the start and end frames of the spontaneous activity epochs before and after the BCI task. Include both `spont` and `spont_again` epochs for spontaneous activity before the task, so that it is a similar time frame as the `spontpost` epoch (~250 seconds)\n",
    "    \n",
    "</div>"
   ]
  },
  {
   "cell_type": "code",
   "execution_count": null,
   "id": "071806b6-ad82-490b-82c7-3096b191d904",
   "metadata": {
    "tags": []
   },
   "outputs": [],
   "source": []
  },
  {
   "cell_type": "code",
   "execution_count": null,
   "id": "1f1dd89a",
   "metadata": {
    "tags": []
   },
   "outputs": [],
   "source": []
  },
  {
   "cell_type": "code",
   "execution_count": null,
   "id": "6f69ce28",
   "metadata": {
    "tags": []
   },
   "outputs": [],
   "source": []
  },
  {
   "cell_type": "markdown",
   "id": "cef7f6f6-ece7-4721-ba22-5979ac9e6938",
   "metadata": {
    "tags": []
   },
   "source": [
    "<div style=\"background: #DFF0D8; border-radius: 3px; padding: 10px;\">\n",
    "\n",
    "Now get the dF/F traces limited to the spontaneous epochs. Create one new array for each epoch (pre and post). \n",
    "    \n",
    "Transpose the array so that the rows are cell_ids and columns are 2P frames. \n",
    "\n",
    "</div>"
   ]
  },
  {
   "cell_type": "code",
   "execution_count": null,
   "id": "a542a04a",
   "metadata": {
    "tags": []
   },
   "outputs": [],
   "source": []
  },
  {
   "cell_type": "code",
   "execution_count": null,
   "id": "8ecc6d29",
   "metadata": {
    "tags": []
   },
   "outputs": [],
   "source": []
  },
  {
   "cell_type": "markdown",
   "id": "49e68108",
   "metadata": {},
   "source": [
    "<div style=\"background: #DFF0D8; border-radius: 3px; padding: 10px;\">\n",
    "\n",
    "**Exercise:** Visualize the dFF traces for each spontaneous period as a heatmap. Make sure the x-axis is 2P frames and the y-axis is # ROIs.\n",
    "    \n",
    "Hint: use [pcolormesh](https://matplotlib.org/stable/api/_as_gen/matplotlib.pyplot.pcolormesh.html) to plot, it makes nicer heatmaps than imshow and interprets the axes nicely (but takes a bit longer).\n",
    "\n",
    "</div>"
   ]
  },
  {
   "cell_type": "code",
   "execution_count": null,
   "id": "5d79716c",
   "metadata": {
    "tags": []
   },
   "outputs": [],
   "source": []
  },
  {
   "cell_type": "code",
   "execution_count": null,
   "id": "2ffa7047",
   "metadata": {
    "tags": []
   },
   "outputs": [],
   "source": []
  },
  {
   "cell_type": "markdown",
   "id": "3e160a9d",
   "metadata": {},
   "source": [
    "<div style=\"border-left: 3px solid #000; padding: 1px; padding-left: 10px; background: #F0FAFF; \">\n",
    "\n",
    "#### Woah thats a lot of ROIs. Are they all valid? "
   ]
  },
  {
   "cell_type": "markdown",
   "id": "9d32f15a-8901-4f8c-ba8e-64a2cd95c1c5",
   "metadata": {
    "tags": []
   },
   "source": [
    "<div style=\"border-left: 3px solid #000; padding: 1px; padding-left: 10px; background: #F0FAFF; \">\n",
    "\n",
    "#### Image segmentation ROI masks\n",
    "    \n",
    "The ROI table contains the output of suite2P segmentation for this imaging plane. depending on the parameters used in data processing, suite2P can pick up a lot of ROIs or just a few. The probability of ROIs being a soma or dendrite are provided and can be used to filter for valid soma ROIs. \n",
    "    \n",
    "Here is what the columns of the ROI table mean:"
   ]
  },
  {
   "cell_type": "markdown",
   "id": "d8ecda98-5fca-4d4d-ba32-58f042df2a29",
   "metadata": {},
   "source": [
    "| Column    | Description |\n",
    "| -------- | ------- |\n",
    "| is_soma  | ==1 if ROI classified as soma, ==0 if not  |\n",
    "| soma_probability | if >0.5 classified as soma  |\n",
    "| is_dendrite |  ==1 if ROI classified as dendrite, ==0 if not   |\n",
    "| dendrite_probability   |  if >0.5 classified as dendrite  |\n",
    "| image_mask  | HxW sparse array defining image masks|"
   ]
  },
  {
   "cell_type": "markdown",
   "id": "e652b16b-f50c-4037-abec-718e882819d0",
   "metadata": {
    "tags": []
   },
   "source": [
    "<div style=\"background: #DFF0D8; border-radius: 3px; padding: 10px;\">\n",
    "\n",
    "**Exercise:** Filter ROIs to limit data to high probability cell somas. \n",
    "    \n",
    "Load the image segmentation masks from the *<b>data_interfaces</b>* container within the *<b>processing</b>* container. \n",
    "\n",
    "Turn the `roi_table` into a dataframe and check the columns.\n",
    "\n",
    "</div>"
   ]
  },
  {
   "cell_type": "code",
   "execution_count": null,
   "id": "81fa8721-fae5-43ae-9d1e-37308e41ad37",
   "metadata": {
    "tags": []
   },
   "outputs": [],
   "source": []
  },
  {
   "cell_type": "markdown",
   "id": "98c0e6ec-6b86-479e-969b-b06771480395",
   "metadata": {},
   "source": [
    "<div style=\"background: #DFF0D8; border-radius: 3px; padding: 10px;\">\n",
    "\n",
    "Use a `soma_probability` threshold of 0.5 and get the coresponding ROI ids. \n",
    "\n",
    "Filter your dff traces arrays for the pre and post spontaneous periods to limit to these ROI ids and plot the heatmaps again. \n",
    "\n",
    "</div>"
   ]
  },
  {
   "cell_type": "code",
   "execution_count": null,
   "id": "1c6333e5-7268-42fb-90c6-38cf8b58542f",
   "metadata": {
    "tags": []
   },
   "outputs": [],
   "source": []
  },
  {
   "cell_type": "code",
   "execution_count": null,
   "id": "a9ad552e-616e-4a97-a860-741e7ff27186",
   "metadata": {
    "tags": []
   },
   "outputs": [],
   "source": []
  },
  {
   "cell_type": "code",
   "execution_count": null,
   "id": "36a62fef-e1e6-40fb-8e5b-b494639d11f3",
   "metadata": {
    "tags": []
   },
   "outputs": [],
   "source": []
  },
  {
   "cell_type": "markdown",
   "id": "7a34b5f4-ad0c-43fc-b0bd-774c41b2987a",
   "metadata": {
    "tags": []
   },
   "source": [
    "<div style=\"border-left: 3px solid #000; padding: 1px; padding-left: 10px; background: #F0FAFF; \">\n",
    "\n",
    "#### Quantifying correlations\n",
    "    \n",
    "Correlations between neuron activity traces could indicate a direct connection between them, or more likely indicates that they received shared input and are part of an interacting network. Let's compute the pairwise correlations between all the neurons and compare them for pre and post spontaneous periods. "
   ]
  },
  {
   "cell_type": "markdown",
   "id": "6eb8bab9",
   "metadata": {},
   "source": [
    "<div style=\"background: #DFF0D8; border-radius: 3px; padding: 10px;\">\n",
    "\n",
    "**Exercise:** Quantify the correlation between every cell pair's dff traces for the pre and post spontaneous periods and plot each as a heatmap. Dont forget to label your axes and include a title so you remember which is pre and which is post. \n",
    "    \n",
    "Hint: Use [np.corrcoef](https://numpy.org/doc/stable/reference/generated/numpy.corrcoef.html) to do this. \n",
    "\n",
    "</div>"
   ]
  },
  {
   "cell_type": "code",
   "execution_count": null,
   "id": "0c3ecddc",
   "metadata": {
    "tags": []
   },
   "outputs": [],
   "source": []
  },
  {
   "cell_type": "code",
   "execution_count": null,
   "id": "ab4e6e5a",
   "metadata": {
    "tags": []
   },
   "outputs": [],
   "source": []
  },
  {
   "cell_type": "code",
   "execution_count": null,
   "id": "c78df01c",
   "metadata": {
    "tags": []
   },
   "outputs": [],
   "source": []
  },
  {
   "cell_type": "markdown",
   "id": "d33ec2d3-7420-46c8-b780-ee390ae7867c",
   "metadata": {},
   "source": [
    "<div style=\"background: #DFF0D8; border-radius: 3px; padding: 10px;\">\n",
    "\n",
    "**Exercise:** Plot the distribution of correlation values as histogram comparing pre and post. \n",
    "    \n",
    "Hint 1: Make sure to flatten your matrix into a 1D array to plot the histogram. \n",
    "    \n",
    "Hint 1: Use histtype='step' as an argument to plt.hist to be able to more easily view the results.\n",
    "    \n",
    "Do a t-test with [scipy.stats.ttest_ind](https://docs.scipy.org/doc/scipy/reference/generated/scipy.stats.ttest_ind.html) - are the distributions statistically different? include the p-value in the plot title\n",
    "    \n",
    "</div>"
   ]
  },
  {
   "cell_type": "code",
   "execution_count": null,
   "id": "93362024-4aa6-4178-897c-6db8ac7b783f",
   "metadata": {
    "tags": []
   },
   "outputs": [],
   "source": []
  },
  {
   "cell_type": "code",
   "execution_count": null,
   "id": "fe1ebde2-eccd-4058-8b5a-e8dc567d721f",
   "metadata": {},
   "outputs": [],
   "source": []
  },
  {
   "cell_type": "code",
   "execution_count": null,
   "id": "a75fc7f7",
   "metadata": {},
   "outputs": [],
   "source": []
  },
  {
   "cell_type": "markdown",
   "id": "e76ec75a-f744-4c66-b83e-116fe8090e73",
   "metadata": {},
   "source": [
    "<div style=\"border-left: 3px solid #000; padding: 1px; padding-left: 10px; background: #F0FAFF; \">\n",
    "<h2>Part 4: Do correlations depend on distance between neurons?</h2>\n",
    "    - Segmented ROI masks and spatial relationships\n"
   ]
  },
  {
   "cell_type": "markdown",
   "id": "00c7f928-a5a9-46ba-ad1f-6adcaae62cbd",
   "metadata": {},
   "source": [
    "<div style=\"border-left: 3px solid #000; padding: 1px; padding-left: 10px; background: #F0FAFF; \">\n",
    "\n",
    "#### ROI Image Masks \n",
    "    \n",
    "ROI masks are extracted from the ophys data to identify regions corresponding to cells and dendrites. Here we want to identify the ROIs correspoding to the cells we computed correlations for earlier and quantify how the distance between ROIs relates to their correlations. "
   ]
  },
  {
   "cell_type": "markdown",
   "id": "4b54348d-c37f-4a4d-a056-06dd28316782",
   "metadata": {
    "tags": []
   },
   "source": [
    "<div style=\"background: #DFF0D8; border-radius: 3px; padding: 10px;\">\n",
    "\n",
    "**Exercise:** Get the `roi_table` from the from the *<b>data_interfaces</b>* container within the *<b>processing</b>* container and limit it to ROIs with `soma_probability` > 0.5 like we did earlier for the dF/F traces. \n",
    "    \n",
    "Plot the `image_mask` for one of the ROIs. "
   ]
  },
  {
   "cell_type": "code",
   "execution_count": null,
   "id": "4c7685ca-66ef-428c-aed7-2af87a1eda7f",
   "metadata": {
    "tags": []
   },
   "outputs": [],
   "source": [
    "# In case you forgot how to find the roi_table\n",
    "roi_table = nwbfile.processing[\"processed\"].data_interfaces[\"image_segmentation\"].plane_segmentations[\"roi_table\"].to_dataframe()\n",
    "# Limit to real somas\n",
    "roi_table = roi_table[roi_table['soma_probability']>0.5]"
   ]
  },
  {
   "cell_type": "code",
   "execution_count": null,
   "id": "a42a396a-0467-48b8-b427-ee2bd7cf8113",
   "metadata": {
    "tags": []
   },
   "outputs": [],
   "source": []
  },
  {
   "cell_type": "markdown",
   "id": "b22cfdd1-dc0e-4ce8-b598-5949d4059207",
   "metadata": {},
   "source": [
    "<div style=\"border-left: 3px solid #000; padding: 1px; padding-left: 10px; background: #F0FAFF; \">\n",
    "\n",
    "### Calculate the centroid of each ROI image mask \n",
    "\n",
    "The ROI image masks are represented as a HxW sparse array with non-zero values that span the ROI area. We can find the centroid of the ROI by calculating the mean of the x,y indices of each mask. We've pre-written the function `get_roi_centroids` to do this. "
   ]
  },
  {
   "cell_type": "code",
   "execution_count": null,
   "id": "645691db-ac32-4368-a4aa-202af2c69d2d",
   "metadata": {
    "tags": []
   },
   "outputs": [],
   "source": [
    "def get_roi_centroids(roi_table):\n",
    "    centroids = []\n",
    "    for mask in roi_table['image_mask']:\n",
    "        ys, xs = np.where(mask)\n",
    "        x = np.mean(xs)\n",
    "        y = np.mean(ys)\n",
    "        centroids.append((x, y))\n",
    "    return np.array(centroids)"
   ]
  },
  {
   "cell_type": "code",
   "execution_count": null,
   "id": "4e37d274-11c3-4198-b29c-61822887a2aa",
   "metadata": {
    "tags": []
   },
   "outputs": [],
   "source": [
    "# Calculate centroids for each ROI and plot \n",
    "\n",
    "centroids = get_roi_centroids(roi_table)\n",
    "centroidX = centroids[:, 0]\n",
    "centroidY = centroids[:, 1]\n",
    "\n",
    "plt.plot(centroidX, centroidY, 'ko', alpha = 0.2, label = 'ROI centroids')\n",
    "plt.xlabel('X position') \n",
    "plt.ylabel('Y position')\n",
    "plt.title('ROI centroids for high probability cell somas')\n",
    "plt.legend()\n",
    "plt.legend(bbox_to_anchor=(1.0, 1.0))"
   ]
  },
  {
   "cell_type": "markdown",
   "id": "442b9017-e032-4322-9129-9dd59e2a9ab6",
   "metadata": {},
   "source": [
    "<div style=\"background: #DFF0D8; border-radius: 3px; padding: 10px;\">\n",
    "\n",
    "**Exercise:** Calculate the distance between one pair of cells using [math.dist](https://docs.python.org/3/library/math.html#math.dist)\n"
   ]
  },
  {
   "cell_type": "code",
   "execution_count": null,
   "id": "3a8151e1-dcc0-4362-877c-993bd7d42ebe",
   "metadata": {
    "tags": []
   },
   "outputs": [],
   "source": [
    "import math"
   ]
  },
  {
   "cell_type": "code",
   "execution_count": null,
   "id": "240d980a-4bf3-43b2-8805-a3930a2e8e03",
   "metadata": {
    "tags": []
   },
   "outputs": [],
   "source": []
  },
  {
   "cell_type": "markdown",
   "id": "7c1923a2-875a-46f6-9d96-be07e05c3d4b",
   "metadata": {},
   "source": [
    "<div style=\"border-left: 3px solid #000; padding: 1px; padding-left: 10px; background: #F0FAFF; \">\n",
    "\n",
    "#### Create pairs data table\n",
    "\n",
    "Let's make a table that contains a row for each cell pair, with columns for each cell index, their correlation pre and post, and the distance between them. This can make analysis easier and helps us keep track of which piece of data goes with which cell pair.\n"
   ]
  },
  {
   "cell_type": "code",
   "execution_count": null,
   "id": "dfa5dcf2-7fbf-4e14-a052-541112e60651",
   "metadata": {
    "tags": []
   },
   "outputs": [],
   "source": [
    "pairs_data = []\n",
    "for roi_id_1 in range(len(roi_table.index.values)): \n",
    "    for roi_id_2 in range(len(roi_table.index.values)): \n",
    "        centroid_cell_1 = centroids[roi_id_1, :]\n",
    "        centroid_cell_2 = centroids[roi_id_2, :]\n",
    "        distance = math.dist(centroid_cell_1, centroid_cell_2)\n",
    "        r_value_pre = correlations_pre[roi_id_1, roi_id_2]\n",
    "        r_value_post = correlations_post[roi_id_1, roi_id_2]\n",
    "        pairs_data.append([roi_id_1, roi_id_2, r_value_pre, r_value_post, distance])\n"
   ]
  },
  {
   "cell_type": "code",
   "execution_count": null,
   "id": "fae23678-1a27-4196-9d0f-2b4f675bde39",
   "metadata": {
    "tags": []
   },
   "outputs": [],
   "source": [
    "pairs = pd.DataFrame(pairs_data, columns=['roi_id_1', 'roi_id_2', 'r_value_pre', 'r_value_post', 'distance'])\n",
    "pairs.head()"
   ]
  },
  {
   "cell_type": "markdown",
   "id": "c860e8cb-ae99-4024-a496-b06df40588ed",
   "metadata": {},
   "source": [
    "<div style=\"background: #DFF0D8; border-radius: 3px; padding: 10px;\">\n",
    "\n",
    "**Exercise:** Plot activity correlations for pre and post spontaneous periods as a function of distance"
   ]
  },
  {
   "cell_type": "code",
   "execution_count": null,
   "id": "df24214d-e283-4a50-a30b-ad29e6b9c15f",
   "metadata": {
    "tags": []
   },
   "outputs": [],
   "source": []
  },
  {
   "cell_type": "code",
   "execution_count": null,
   "id": "9abfb8cf-bf5e-4081-9c17-eb3b33db6890",
   "metadata": {},
   "outputs": [],
   "source": []
  },
  {
   "cell_type": "code",
   "execution_count": null,
   "id": "3131de6a-212d-4506-aebb-9521ba47c400",
   "metadata": {},
   "outputs": [],
   "source": []
  },
  {
   "cell_type": "code",
   "execution_count": null,
   "id": "72cf09ab-b6a8-4608-9f8c-c1a2b3a8f452",
   "metadata": {},
   "outputs": [],
   "source": []
  },
  {
   "cell_type": "markdown",
   "id": "a834d618-7135-47de-80cb-73cf03010a7f",
   "metadata": {},
   "source": [
    "<div style=\"border-left: 3px solid #000; padding: 1px; padding-left: 10px; \">\n",
    "\n",
    "#### Questions and analyses to explore further:\n",
    " \n",
    "* How does connectivity change across the photostimulation periods? \n",
    "        \n",
    "* Do correlated neurons tend to have stronger connections? \n",
    "    \n",
    "* Quantify the degree to which the conditioned neuron increases its activity throughout the task. \n",
    "    \n",
    "* Do differences in the transgenic lines or injected viruses impact connectivity and photostimulation measurements? \n",
    "    \n",
    "* Do non-conditioned neurons change activity during the BCI task? \n",
    "    "
   ]
  },
  {
   "cell_type": "markdown",
   "id": "7ac9b943",
   "metadata": {},
   "source": []
  },
  {
   "cell_type": "markdown",
   "id": "2cb6243f",
   "metadata": {},
   "source": []
  },
  {
   "cell_type": "markdown",
   "id": "6db60b49",
   "metadata": {},
   "source": []
  },
  {
   "cell_type": "markdown",
   "id": "a5ea407e",
   "metadata": {},
   "source": []
  },
  {
   "cell_type": "markdown",
   "id": "f4c712eb",
   "metadata": {},
   "source": []
  },
  {
   "cell_type": "markdown",
   "id": "8d356092",
   "metadata": {},
   "source": []
  }
 ],
 "metadata": {
  "kernelspec": {
   "display_name": "Python 3 (ipykernel)",
   "language": "python",
   "name": "python3"
  },
  "language_info": {
   "codemirror_mode": {
    "name": "ipython",
    "version": 3
   },
   "file_extension": ".py",
   "mimetype": "text/x-python",
   "name": "python",
   "nbconvert_exporter": "python",
   "pygments_lexer": "ipython3",
   "version": "3.10.12"
  }
 },
 "nbformat": 4,
 "nbformat_minor": 5
}
